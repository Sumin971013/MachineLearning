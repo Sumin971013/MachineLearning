{
 "cells": [
  {
   "cell_type": "code",
   "execution_count": 36,
   "metadata": {},
   "outputs": [],
   "source": [
    "import numpy as np\n",
    "import matplotlib.pyplot as plt\n",
    "from sklearn.linear_model import LinearRegression\n",
    "import mglearn\n",
    "from sklearn.model_selection import train_test_split\n",
    "import seaborn as sns\n",
    "import pandas as pd\n"
   ]
  },
  {
   "cell_type": "markdown",
   "metadata": {},
   "source": [
    "\n",
    "# 단순 선형회귀를 통한 예측방법"
   ]
  },
  {
   "cell_type": "code",
   "execution_count": 4,
   "metadata": {},
   "outputs": [],
   "source": [
    "X,y=mglearn.datasets.make_wave(n_samples=60)"
   ]
  },
  {
   "cell_type": "code",
   "execution_count": 7,
   "metadata": {},
   "outputs": [],
   "source": [
    "x_train,x_test,y_train,y_test=train_test_split(X,y,random_state=42)"
   ]
  },
  {
   "cell_type": "code",
   "execution_count": 8,
   "metadata": {},
   "outputs": [],
   "source": [
    "lr=LinearRegression()"
   ]
  },
  {
   "cell_type": "code",
   "execution_count": 9,
   "metadata": {},
   "outputs": [
    {
     "data": {
      "text/plain": [
       "LinearRegression(copy_X=True, fit_intercept=True, n_jobs=None, normalize=False)"
      ]
     },
     "execution_count": 9,
     "metadata": {},
     "output_type": "execute_result"
    }
   ],
   "source": [
    "lr.fit(x_train,y_train)"
   ]
  },
  {
   "cell_type": "code",
   "execution_count": 13,
   "metadata": {},
   "outputs": [
    {
     "data": {
      "image/png": "[encoded data removed]",
      "text/plain": [
       "<Figure size 432x288 with 1 Axes>"
      ]
     },
     "metadata": {
      "needs_background": "light"
     },
     "output_type": "display_data"
    }
   ],
   "source": [
    "plt.plot(x_train,y_train,'o')\n",
    "plt.grid(True)\n"
   ]
  },
  {
   "cell_type": "code",
   "execution_count": 19,
   "metadata": {},
   "outputs": [
    {
     "data": {
      "text/plain": [
       "array([-0.3283204 , -0.84483835, -0.49358667,  0.35230624, -0.71167167,\n",
       "        0.19957573,  1.02910669,  0.07859229,  0.75390167, -0.75032857,\n",
       "       -0.47681266,  1.07802761, -0.8104986 ,  0.2013684 ,  1.00692209])"
      ]
     },
     "execution_count": 19,
     "metadata": {},
     "output_type": "execute_result"
    }
   ],
   "source": [
    "lr.predict(x_test)"
   ]
  },
  {
   "cell_type": "code",
   "execution_count": 20,
   "metadata": {},
   "outputs": [
    {
     "data": {
      "text/plain": [
       "0.65933685968637"
      ]
     },
     "execution_count": 20,
     "metadata": {},
     "output_type": "execute_result"
    }
   ],
   "source": [
    "lr.score(x_test,y_test)"
   ]
  },
  {
   "cell_type": "markdown",
   "metadata": {},
   "source": [
    "# 선형 회귀를 통한 주택 가격 예측 "
   ]
  },
  {
   "cell_type": "code",
   "execution_count": 22,
   "metadata": {},
   "outputs": [],
   "source": [
    "x,y=mglearn.datasets.load_extended_boston()"
   ]
  },
  {
   "cell_type": "code",
   "execution_count": 29,
   "metadata": {},
   "outputs": [],
   "source": [
    "lr2=LinearRegression()"
   ]
  },
  {
   "cell_type": "code",
   "execution_count": 30,
   "metadata": {},
   "outputs": [],
   "source": [
    "x_train,x_test,y_train,y_test=train_test_split(x,y,random_state=34)"
   ]
  },
  {
   "cell_type": "code",
   "execution_count": 31,
   "metadata": {},
   "outputs": [
    {
     "data": {
      "text/plain": [
       "LinearRegression(copy_X=True, fit_intercept=True, n_jobs=None, normalize=False)"
      ]
     },
     "execution_count": 31,
     "metadata": {},
     "output_type": "execute_result"
    }
   ],
   "source": [
    "lr2.fit(x_train,y_train)"
   ]
  },
  {
   "cell_type": "code",
   "execution_count": 32,
   "metadata": {
    "scrolled": true
   },
   "outputs": [
    {
     "data": {
      "text/plain": [
       "array([17.93762471, 52.55067047, 14.88041808, 20.72762943, 18.22536166,\n",
       "       29.33117506, 16.33204133, 14.46416669, 23.44189036, 19.32552149,\n",
       "       14.30137417, 26.92421142, 27.10198508, 21.3858838 , 42.13582222,\n",
       "       14.32888887, 17.62969024, 28.61932267, 18.02570474, 28.7097556 ,\n",
       "       23.65586341,  9.27398637, 22.71300717, 35.87104681, 19.09574241,\n",
       "       24.49179307, 22.0207768 , 18.45431506, 25.4197449 , 12.95569165,\n",
       "       12.21245347, 32.64645912, 42.26881583, 20.9991015 , 21.7703776 ,\n",
       "       18.54275361, 20.42168781, 20.20208211,  9.89771362, 27.69586539,\n",
       "       12.81722579, 17.61471466, 14.33565717, 13.04157306, 18.59187811,\n",
       "       18.0591533 , 10.23069926, 47.45013495, 23.51867121, 21.38813445,\n",
       "       29.18588988, 20.53614519, 33.34501251, 33.85323597, 10.44006165,\n",
       "       24.97288433, 16.25616394, 27.62660218, 21.40734288, 16.21834428,\n",
       "       17.22149882, 22.52564396, 23.79874313, 18.05576903, 18.07443588,\n",
       "       18.48779069,  9.19705398, 31.17889639, 24.93615503, 15.60535634,\n",
       "       26.03498565, 33.16109485, 30.48768289, 17.60809481, 35.51467477,\n",
       "        8.06152109, 19.05257661, 10.74092247, 21.09037822, 18.18157209,\n",
       "       16.7298471 , 50.19153354, 22.15954723, 17.30240662, 18.10480569,\n",
       "       16.14180191, 14.29653684, 11.48884025, 27.24333336, 25.43769037,\n",
       "       17.13896892, 25.33463263, 15.57531513, 20.43386955,  6.14605039,\n",
       "       32.60256635, 28.84353662, 17.53167193, 25.06610686, 47.26026989,\n",
       "       33.06784764, 31.62406653, 21.55261471, 24.83940049, 21.54129513,\n",
       "       11.76409235, 28.16566709, 16.41837175, 21.13619413, 15.74975908,\n",
       "       29.75262846, 17.8835914 , 11.23612586,  7.72734893, 33.47348994,\n",
       "       13.76946002,  9.1939728 , 24.78800768, 19.67570499, 21.09236713,\n",
       "        9.12976114, 51.71938334, 22.96085936, 13.1601917 , 15.06347349,\n",
       "       30.04994204, 14.75692745])"
      ]
     },
     "execution_count": 32,
     "metadata": {},
     "output_type": "execute_result"
    }
   ],
   "source": [
    "lr2.predict(x_test)"
   ]
  },
  {
   "cell_type": "code",
   "execution_count": 33,
   "metadata": {},
   "outputs": [
    {
     "data": {
      "text/plain": [
       "0.859265265405366"
      ]
     },
     "execution_count": 33,
     "metadata": {},
     "output_type": "execute_result"
    }
   ],
   "source": [
    "lr2.score(x_test,y_test)"
   ]
  }
 ],
 "metadata": {
  "kernelspec": {
   "display_name": "Python 3",
   "language": "python",
   "name": "python3"
  },
  "language_info": {
   "codemirror_mode": {
    "name": "ipython",
    "version": 3
   },
   "file_extension": ".py",
   "mimetype": "text/x-python",
   "name": "python",
   "nbconvert_exporter": "python",
   "pygments_lexer": "ipython3",
   "version": "3.7.7"
  }
 },
 "nbformat": 4,
 "nbformat_minor": 4
}

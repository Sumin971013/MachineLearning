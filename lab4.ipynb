{
 "cells": [
  {
   "cell_type": "code",
   "execution_count": 1,
   "id": "560e7918",
   "metadata": {},
   "outputs": [],
   "source": [
    "import numpy as np\n",
    "import pandas as pd\n",
    "import matplotlib.pyplot as plt\n",
    "%matplotlib inline\n",
    "\n",
    "\n",
    "from os.path import join\n",
    "import tensorflow as tf\n",
    "from tensorflow.keras import layers, models, optimizers\n",
    "from tensorflow.keras.utils import to_categorical"
   ]
  },
  {
   "cell_type": "code",
   "execution_count": 2,
   "id": "493985f7",
   "metadata": {},
   "outputs": [
    {
     "name": "stdout",
     "output_type": "stream",
     "text": [
      "True\n"
     ]
    }
   ],
   "source": [
    "tf.config.run_functions_eagerly(False)\n",
    "print(tf.executing_eagerly())"
   ]
  },
  {
   "cell_type": "code",
   "execution_count": 3,
   "id": "1ab5240b",
   "metadata": {},
   "outputs": [
    {
     "data": {
      "text/plain": [
       "'2.4.0-rc0'"
      ]
     },
     "execution_count": 3,
     "metadata": {},
     "output_type": "execute_result"
    }
   ],
   "source": [
    "tf.__version__"
   ]
  },
  {
   "cell_type": "code",
   "execution_count": 4,
   "id": "c5235b97",
   "metadata": {},
   "outputs": [],
   "source": [
    "datax = np.load(join(\"data\",'MNIST.npy'))\n",
    "datay = np.load(join(\"data\",'Label.npy'))"
   ]
  },
  {
   "cell_type": "code",
   "execution_count": 5,
   "id": "554ac5b1",
   "metadata": {},
   "outputs": [],
   "source": [
    "datax_norm = datax/255.0"
   ]
  },
  {
   "cell_type": "code",
   "execution_count": 6,
   "id": "6be716ea",
   "metadata": {},
   "outputs": [
    {
     "data": {
      "text/plain": [
       "<matplotlib.image.AxesImage at 0x141e170d0>"
      ]
     },
     "execution_count": 6,
     "metadata": {},
     "output_type": "execute_result"
    },
    {
     "data": {
      "image/png": "[encoded data removed]",
      "text/plain": [
       "<Figure size 432x288 with 1 Axes>"
      ]
     },
     "metadata": {
      "needs_background": "light"
     },
     "output_type": "display_data"
    }
   ],
   "source": [
    "plt.imshow(datax_norm[2],cmap='Greys')"
   ]
  },
  {
   "cell_type": "code",
   "execution_count": 7,
   "id": "d0580a87",
   "metadata": {},
   "outputs": [],
   "source": [
    "datax_re = datax_norm.reshape([-1,datax_norm.shape[1]**2])"
   ]
  },
  {
   "cell_type": "code",
   "execution_count": 8,
   "id": "1f356c67",
   "metadata": {},
   "outputs": [
    {
     "data": {
      "text/plain": [
       "(60000, 784)"
      ]
     },
     "execution_count": 8,
     "metadata": {},
     "output_type": "execute_result"
    }
   ],
   "source": [
    "datax_re.shape"
   ]
  },
  {
   "cell_type": "code",
   "execution_count": 9,
   "id": "e0c9da0a",
   "metadata": {},
   "outputs": [],
   "source": [
    "input_shape = (datax_re.shape[1],)\n",
    "input_tensor = layers.Input(input_shape)"
   ]
  },
  {
   "cell_type": "code",
   "execution_count": 10,
   "id": "6be0164d",
   "metadata": {},
   "outputs": [],
   "source": [
    "##encoder\n",
    "e1 = layers.Dense(500 , activation='relu')(input_tensor)\n",
    "e2 = layers.Dense(300 , activation='relu')(e1)\n",
    "e3 = layers.Dense(100 , activation='relu')(e2)\n",
    "e4 = layers.Dense(50 , activation='relu',name='la_layer')(e3)\n",
    "\n",
    "latent_tensor = e4\n",
    "\n",
    "#decoder\n",
    "\n",
    "d1 = layers.Dense(100 , activation='relu')(latent_tensor)\n",
    "d2 = layers.Dense(300 , activation='relu')(d1)\n",
    "d3 = layers.Dense(500 , activation='relu')(d2)\n",
    "\n",
    "\n",
    "reconstruct_output = layers.Dense(datax_re.shape[1] , activation='relu')(d3)\n",
    "\n"
   ]
  },
  {
   "cell_type": "code",
   "execution_count": 11,
   "id": "4957be4e",
   "metadata": {},
   "outputs": [],
   "source": [
    "ae = models.Model(input_tensor , reconstruct_output)\n",
    "ae.compile(optimizer='adam' , loss='mse')"
   ]
  },
  {
   "cell_type": "code",
   "execution_count": 12,
   "id": "59705ab8",
   "metadata": {},
   "outputs": [
    {
     "name": "stdout",
     "output_type": "stream",
     "text": [
      "Model: \"model\"\n",
      "_________________________________________________________________\n",
      "Layer (type)                 Output Shape              Param #   \n",
      "=================================================================\n",
      "input_1 (InputLayer)         [(None, 784)]             0         \n",
      "_________________________________________________________________\n",
      "dense (Dense)                (None, 500)               392500    \n",
      "_________________________________________________________________\n",
      "dense_1 (Dense)              (None, 300)               150300    \n",
      "_________________________________________________________________\n",
      "dense_2 (Dense)              (None, 100)               30100     \n",
      "_________________________________________________________________\n",
      "la_layer (Dense)             (None, 50)                5050      \n",
      "_________________________________________________________________\n",
      "dense_3 (Dense)              (None, 100)               5100      \n",
      "_________________________________________________________________\n",
      "dense_4 (Dense)              (None, 300)               30300     \n",
      "_________________________________________________________________\n",
      "dense_5 (Dense)              (None, 500)               150500    \n",
      "_________________________________________________________________\n",
      "dense_6 (Dense)              (None, 784)               392784    \n",
      "=================================================================\n",
      "Total params: 1,156,634\n",
      "Trainable params: 1,156,634\n",
      "Non-trainable params: 0\n",
      "_________________________________________________________________\n"
     ]
    }
   ],
   "source": [
    "ae.summary()"
   ]
  },
  {
   "cell_type": "code",
   "execution_count": 13,
   "id": "2087f1ed",
   "metadata": {},
   "outputs": [],
   "source": [
    "epoch = 10\n",
    "batch_size=64\n",
    "\n"
   ]
  },
  {
   "cell_type": "code",
   "execution_count": 14,
   "id": "7890e626",
   "metadata": {},
   "outputs": [],
   "source": [
    "#ae.fit(datax_re , datax_re , batch_size=batch_size , epochs=epoch)"
   ]
  },
  {
   "cell_type": "code",
   "execution_count": 15,
   "id": "356efd4a",
   "metadata": {},
   "outputs": [],
   "source": [
    "decode_img = ae.predict(datax_re[2].reshape(1,28*28))"
   ]
  },
  {
   "cell_type": "code",
   "execution_count": 16,
   "id": "a6bc924a",
   "metadata": {},
   "outputs": [
    {
     "data": {
      "text/plain": [
       "<matplotlib.image.AxesImage at 0x146f9d250>"
      ]
     },
     "execution_count": 16,
     "metadata": {},
     "output_type": "execute_result"
    },
    {
     "data": {
      "image/png": "[encoded data removed]",
      "text/plain": [
       "<Figure size 432x288 with 1 Axes>"
      ]
     },
     "metadata": {
      "needs_background": "light"
     },
     "output_type": "display_data"
    }
   ],
   "source": [
    "plt.imshow(decode_img.reshape(28,28))"
   ]
  },
  {
   "cell_type": "code",
   "execution_count": 17,
   "id": "fad31084",
   "metadata": {},
   "outputs": [],
   "source": [
    "r_vec = np.random.rand(784,1)"
   ]
  },
  {
   "cell_type": "code",
   "execution_count": 18,
   "id": "eecd2dd8",
   "metadata": {},
   "outputs": [],
   "source": [
    "d_img = ae.predict(r_vec.reshape(1,28*28))\n",
    "d_img = d_img.reshape(28,28)"
   ]
  },
  {
   "cell_type": "code",
   "execution_count": 19,
   "id": "b0c36885",
   "metadata": {},
   "outputs": [
    {
     "data": {
      "text/plain": [
       "<matplotlib.image.AxesImage at 0x147dc02b0>"
      ]
     },
     "execution_count": 19,
     "metadata": {},
     "output_type": "execute_result"
    },
    {
     "data": {
      "image/png": "[encoded data removed]",
      "text/plain": [
       "<Figure size 432x288 with 1 Axes>"
      ]
     },
     "metadata": {
      "needs_background": "light"
     },
     "output_type": "display_data"
    }
   ],
   "source": [
    "plt.imshow(d_img)"
   ]
  },
  {
   "cell_type": "markdown",
   "id": "18d2b410",
   "metadata": {},
   "source": [
    "# Noise MAE"
   ]
  },
  {
   "cell_type": "code",
   "execution_count": 20,
   "id": "bd2ff802",
   "metadata": {},
   "outputs": [
    {
     "data": {
      "text/plain": [
       "0.4727456201279333"
      ]
     },
     "execution_count": 20,
     "metadata": {},
     "output_type": "execute_result"
    }
   ],
   "source": [
    "np.mean(np.abs(r_vec - d_img.reshape(784,1)))"
   ]
  },
  {
   "cell_type": "markdown",
   "id": "8b05f844",
   "metadata": {},
   "source": [
    "# CAE"
   ]
  },
  {
   "cell_type": "code",
   "execution_count": 21,
   "id": "1cfca676",
   "metadata": {},
   "outputs": [],
   "source": [
    "x_data = datax_norm.reshape((-1,28,28,1))"
   ]
  },
  {
   "cell_type": "code",
   "execution_count": 22,
   "id": "a95241ff",
   "metadata": {},
   "outputs": [
    {
     "data": {
      "text/plain": [
       "(60000, 28, 28, 1)"
      ]
     },
     "execution_count": 22,
     "metadata": {},
     "output_type": "execute_result"
    }
   ],
   "source": [
    "x_data.shape"
   ]
  },
  {
   "cell_type": "code",
   "execution_count": 23,
   "id": "c6d7b3de",
   "metadata": {},
   "outputs": [],
   "source": [
    "ip_shape = x_data.shape[1:]\n",
    "ip_tensor = layers.Input(ip_shape)"
   ]
  },
  {
   "cell_type": "code",
   "execution_count": 24,
   "id": "1689e1e0",
   "metadata": {},
   "outputs": [],
   "source": [
    "conv_1 = layers.Conv2D(1 , kernel_size=(5,5),strides=1, padding='same')(ip_tensor)\n",
    "b_1 =layers.BatchNormalization()(conv_1)\n",
    "act_1 = layers.Activation(\"relu\")(b_1)\n",
    "pool_1 = layers.MaxPool2D()(act_1)\n",
    "\n",
    "conv_2 = layers.Conv2D(1 , kernel_size=(3,3),strides=1, padding='same')(pool_1)\n",
    "b_2 =layers.BatchNormalization()(conv_2)\n",
    "act_2 = layers.Activation(\"relu\")(b_2)\n",
    "pool_2 = layers.MaxPool2D(name = 'imlatent_layer')(act_2)\n",
    "\n",
    "\n",
    "flatten = layers.Flatten()(pool_2)\n",
    "dense1 = layers.Dense(32 , activation='relu' , name='latent_layer')(flatten)\n",
    "\n",
    "latent_tensor = dense1\n",
    "\n",
    "\n",
    "dense2 = layers.Dense(7*7,activation='relu')(latent_tensor)\n",
    "reshaped = tf.reshape(dense2 , [-1,7,7,1])\n",
    "\n",
    "#14,14\n",
    "up2 = layers.UpSampling2D()(reshaped)\n",
    "# 14,14\n",
    "t2 = layers.Conv2DTranspose(1,(5,5),padding='same',activation='sigmoid')(up2)\n",
    "\n",
    "# 28,28\n",
    "up3 = layers.UpSampling2D()(t2)\n",
    "t3 = layers.Conv2DTranspose(1,(5,5),padding='same',activation='sigmoid')(up3)\n",
    "\n",
    "\n",
    "output_tensor = t3\n",
    "\n",
    "\n",
    "\n",
    "\n",
    "\n",
    "\n",
    "\n",
    "\n",
    "\n",
    "\n",
    "\n",
    "\n",
    "\n",
    "\n",
    "\n",
    "\n",
    "\n",
    "\n",
    "\n"
   ]
  },
  {
   "cell_type": "code",
   "execution_count": 25,
   "id": "653000de",
   "metadata": {},
   "outputs": [],
   "source": [
    "ae=models.Model(ip_tensor,output_tensor)\n",
    "ae.compile(optimizer='adam',loss='mse')"
   ]
  },
  {
   "cell_type": "code",
   "execution_count": 26,
   "id": "1f14e399",
   "metadata": {},
   "outputs": [
    {
     "name": "stdout",
     "output_type": "stream",
     "text": [
      "Model: \"model_1\"\n",
      "_________________________________________________________________\n",
      "Layer (type)                 Output Shape              Param #   \n",
      "=================================================================\n",
      "input_2 (InputLayer)         [(None, 28, 28, 1)]       0         \n",
      "_________________________________________________________________\n",
      "conv2d (Conv2D)              (None, 28, 28, 1)         26        \n",
      "_________________________________________________________________\n",
      "batch_normalization (BatchNo (None, 28, 28, 1)         4         \n",
      "_________________________________________________________________\n",
      "activation (Activation)      (None, 28, 28, 1)         0         \n",
      "_________________________________________________________________\n",
      "max_pooling2d (MaxPooling2D) (None, 14, 14, 1)         0         \n",
      "_________________________________________________________________\n",
      "conv2d_1 (Conv2D)            (None, 14, 14, 1)         10        \n",
      "_________________________________________________________________\n",
      "batch_normalization_1 (Batch (None, 14, 14, 1)         4         \n",
      "_________________________________________________________________\n",
      "activation_1 (Activation)    (None, 14, 14, 1)         0         \n",
      "_________________________________________________________________\n",
      "imlatent_layer (MaxPooling2D (None, 7, 7, 1)           0         \n",
      "_________________________________________________________________\n",
      "flatten (Flatten)            (None, 49)                0         \n",
      "_________________________________________________________________\n",
      "latent_layer (Dense)         (None, 32)                1600      \n",
      "_________________________________________________________________\n",
      "dense_7 (Dense)              (None, 49)                1617      \n",
      "_________________________________________________________________\n",
      "tf.reshape (TFOpLambda)      (None, 7, 7, 1)           0         \n",
      "_________________________________________________________________\n",
      "up_sampling2d (UpSampling2D) (None, 14, 14, 1)         0         \n",
      "_________________________________________________________________\n",
      "conv2d_transpose (Conv2DTran (None, 14, 14, 1)         26        \n",
      "_________________________________________________________________\n",
      "up_sampling2d_1 (UpSampling2 (None, 28, 28, 1)         0         \n",
      "_________________________________________________________________\n",
      "conv2d_transpose_1 (Conv2DTr (None, 28, 28, 1)         26        \n",
      "=================================================================\n",
      "Total params: 3,313\n",
      "Trainable params: 3,309\n",
      "Non-trainable params: 4\n",
      "_________________________________________________________________\n"
     ]
    }
   ],
   "source": [
    "ae.summary()"
   ]
  },
  {
   "cell_type": "code",
   "execution_count": 27,
   "id": "a15ec655",
   "metadata": {},
   "outputs": [
    {
     "name": "stdout",
     "output_type": "stream",
     "text": [
      "Epoch 1/10\n",
      "1875/1875 [==============================] - 3s 1ms/step - loss: 0.1029\n",
      "Epoch 2/10\n",
      "1875/1875 [==============================] - 3s 1ms/step - loss: 0.0651\n",
      "Epoch 3/10\n",
      "1875/1875 [==============================] - 3s 1ms/step - loss: 0.0592\n",
      "Epoch 4/10\n",
      "1875/1875 [==============================] - 3s 1ms/step - loss: 0.0571\n",
      "Epoch 5/10\n",
      "1875/1875 [==============================] - 3s 1ms/step - loss: 0.0563\n",
      "Epoch 6/10\n",
      "1875/1875 [==============================] - 3s 1ms/step - loss: 0.0558\n",
      "Epoch 7/10\n",
      "1875/1875 [==============================] - 3s 1ms/step - loss: 0.0556\n",
      "Epoch 8/10\n",
      "1875/1875 [==============================] - 3s 1ms/step - loss: 0.0538\n",
      "Epoch 9/10\n",
      "1875/1875 [==============================] - 3s 1ms/step - loss: 0.0526\n",
      "Epoch 10/10\n",
      "1875/1875 [==============================] - 3s 1ms/step - loss: 0.0517\n"
     ]
    },
    {
     "data": {
      "text/plain": [
       "<tensorflow.python.keras.callbacks.History at 0x147fa19a0>"
      ]
     },
     "execution_count": 27,
     "metadata": {},
     "output_type": "execute_result"
    }
   ],
   "source": [
    "epoch=10\n",
    "batch_size=32\n",
    "\n",
    "ae.fit(x_data , x_data, batch_size=32,epochs=10)"
   ]
  },
  {
   "cell_type": "code",
   "execution_count": 28,
   "id": "17b610ef",
   "metadata": {},
   "outputs": [
    {
     "data": {
      "text/plain": [
       "<matplotlib.image.AxesImage at 0x150c12910>"
      ]
     },
     "execution_count": 28,
     "metadata": {},
     "output_type": "execute_result"
    },
    {
     "data": {
      "image/png": "[encoded data removed]",
      "text/plain": [
       "<Figure size 432x288 with 1 Axes>"
      ]
     },
     "metadata": {
      "needs_background": "light"
     },
     "output_type": "display_data"
    }
   ],
   "source": [
    "plt.imshow(x_data[0].reshape(28,28))"
   ]
  },
  {
   "cell_type": "code",
   "execution_count": 29,
   "id": "15ff6050",
   "metadata": {},
   "outputs": [
    {
     "data": {
      "text/plain": [
       "(1, 28, 28, 1)"
      ]
     },
     "execution_count": 29,
     "metadata": {},
     "output_type": "execute_result"
    }
   ],
   "source": [
    "pre = ae.predict(x_data[0].reshape(1,28,28,1))\n",
    "pre.shape"
   ]
  },
  {
   "cell_type": "code",
   "execution_count": 30,
   "id": "60aece97",
   "metadata": {},
   "outputs": [],
   "source": [
    "pre = pre.reshape(28,28)"
   ]
  },
  {
   "cell_type": "code",
   "execution_count": 31,
   "id": "43b30670",
   "metadata": {
    "scrolled": true
   },
   "outputs": [
    {
     "data": {
      "text/plain": [
       "<matplotlib.image.AxesImage at 0x150e8e100>"
      ]
     },
     "execution_count": 31,
     "metadata": {},
     "output_type": "execute_result"
    },
    {
     "data": {
      "image/png": "[encoded data removed]",
      "text/plain": [
       "<Figure size 432x288 with 1 Axes>"
      ]
     },
     "metadata": {
      "needs_background": "light"
     },
     "output_type": "display_data"
    }
   ],
   "source": [
    "plt.imshow(pre)"
   ]
  },
  {
   "cell_type": "code",
   "execution_count": 33,
   "id": "79edaf08",
   "metadata": {},
   "outputs": [],
   "source": [
    "check = models.Model(inputs = ae.input , \n",
    "                    outputs = ae.get_layer('imlatent_layer').output)\n"
   ]
  },
  {
   "cell_type": "code",
   "execution_count": 34,
   "id": "50996e59",
   "metadata": {},
   "outputs": [],
   "source": [
    "check_output = check.predict(x_data[0].reshape(1,28,28,1))"
   ]
  },
  {
   "cell_type": "code",
   "execution_count": 35,
   "id": "02b1e95c",
   "metadata": {},
   "outputs": [],
   "source": [
    "check_output = np.array(check_output)\n"
   ]
  },
  {
   "cell_type": "code",
   "execution_count": 36,
   "id": "b9da2c63",
   "metadata": {},
   "outputs": [
    {
     "data": {
      "text/plain": [
       "(1, 7, 7, 1)"
      ]
     },
     "execution_count": 36,
     "metadata": {},
     "output_type": "execute_result"
    }
   ],
   "source": [
    "check_output.shape"
   ]
  },
  {
   "cell_type": "code",
   "execution_count": 38,
   "id": "202826df",
   "metadata": {},
   "outputs": [
    {
     "data": {
      "text/plain": [
       "<matplotlib.image.AxesImage at 0x15124ac10>"
      ]
     },
     "execution_count": 38,
     "metadata": {},
     "output_type": "execute_result"
    },
    {
     "data": {
      "image/png": "[encoded data removed]",
      "text/plain": [
       "<Figure size 432x288 with 1 Axes>"
      ]
     },
     "metadata": {
      "needs_background": "light"
     },
     "output_type": "display_data"
    }
   ],
   "source": [
    "plt.imshow(check_output.reshape(7,7))"
   ]
  },
  {
   "cell_type": "code",
   "execution_count": null,
   "id": "cc2dcd4a",
   "metadata": {},
   "outputs": [],
   "source": []
  }
 ],
 "metadata": {
  "kernelspec": {
   "display_name": "Python 3",
   "language": "python",
   "name": "python3"
  },
  "language_info": {
   "codemirror_mode": {
    "name": "ipython",
    "version": 3
   },
   "file_extension": ".py",
   "mimetype": "text/x-python",
   "name": "python",
   "nbconvert_exporter": "python",
   "pygments_lexer": "ipython3",
   "version": "3.8.8"
  }
 },
 "nbformat": 4,
 "nbformat_minor": 5
}

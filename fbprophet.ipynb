{
  "nbformat": 4,
  "nbformat_minor": 0,
  "metadata": {
    "colab": {
      "name": "fbprophet.ipynb",
      "provenance": [],
      "private_outputs": true,
      "collapsed_sections": [],
      "authorship_tag": "ABX9TyPQj2lWZgoHOclr2PaoXM5s",
      "include_colab_link": true
    },
    "kernelspec": {
      "name": "python3",
      "display_name": "Python 3"
    },
    "language_info": {
      "name": "python"
    },
    "accelerator": "GPU"
  },
  "cells": [
    {
      "cell_type": "markdown",
      "metadata": {
        "id": "view-in-github",
        "colab_type": "text"
      },
      "source": [
        "<a href=\"https://colab.research.google.com/github/SuminBae97/MachineLearning/blob/master/fbprophet.ipynb\" target=\"_parent\"><img src=\"https://colab.research.google.com/assets/colab-badge.svg\" alt=\"Open In Colab\"/></a>"
      ]
    },
    {
      "cell_type": "markdown",
      "source": [
        "<h1>필요 패키지 로딩</h1>"
      ],
      "metadata": {
        "id": "mR1JS7TNbM1j"
      }
    },
    {
      "cell_type": "code",
      "source": [
        "import pandas as pd\n",
        "import pandas_datareader as web\n",
        "import matplotlib.pyplot as plt\n",
        "from fbprophet import Prophet\n",
        "import  numpy as np"
      ],
      "metadata": {
        "id": "71JNRfXLUWGq"
      },
      "execution_count": null,
      "outputs": []
    },
    {
      "cell_type": "markdown",
      "source": [
        "<h1>Prophet tutrial </h1>"
      ],
      "metadata": {
        "id": "NdRGHFXya0Vg"
      }
    },
    {
      "cell_type": "code",
      "source": [
        "from google.colab import files\n",
        "uploaded = files.upload()"
      ],
      "metadata": {
        "id": "pBM4SckNi7nA"
      },
      "execution_count": null,
      "outputs": []
    },
    {
      "cell_type": "code",
      "source": [
        "df = pd.read_csv(\"example_wp_log_peyton_manning.csv\")"
      ],
      "metadata": {
        "id": "Ay_8QDyQlmRN"
      },
      "execution_count": null,
      "outputs": []
    },
    {
      "cell_type": "code",
      "source": [
        "df.head(5)"
      ],
      "metadata": {
        "id": "lI00MO0tluTh"
      },
      "execution_count": null,
      "outputs": []
    },
    {
      "cell_type": "code",
      "source": [
        "df.tail(5)"
      ],
      "metadata": {
        "id": "IJlmb-TcnZct"
      },
      "execution_count": null,
      "outputs": []
    },
    {
      "cell_type": "code",
      "source": [
        "plt.figure(figsize=(20,8))\n",
        "plt.plot(df['y'],color='green')"
      ],
      "metadata": {
        "id": "KuoCzjAalvtX"
      },
      "execution_count": null,
      "outputs": []
    },
    {
      "cell_type": "code",
      "source": [
        "df.shape"
      ],
      "metadata": {
        "id": "TC_YU04mmR4H"
      },
      "execution_count": null,
      "outputs": []
    },
    {
      "cell_type": "markdown",
      "source": [
        "<h1>Prophet model 호출</h1>"
      ],
      "metadata": {
        "id": "bS1_uxBCA-HC"
      }
    },
    {
      "cell_type": "code",
      "source": [
        "model = Prophet()"
      ],
      "metadata": {
        "id": "TpundzJOnJzP"
      },
      "execution_count": null,
      "outputs": []
    },
    {
      "cell_type": "markdown",
      "source": [
        "<h1>Pass historical data</h1>"
      ],
      "metadata": {
        "id": "KxAGa9QDBEjF"
      }
    },
    {
      "cell_type": "code",
      "source": [
        "model.fit(df)"
      ],
      "metadata": {
        "id": "ZHIBxtiOnRnS"
      },
      "execution_count": null,
      "outputs": []
    },
    {
      "cell_type": "code",
      "source": [
        "help(model.predict)"
      ],
      "metadata": {
        "id": "1_jco5fLCUme"
      },
      "execution_count": null,
      "outputs": []
    },
    {
      "cell_type": "markdown",
      "source": [
        "<h1>미래 날짜 data frame 제작 1년치</h>"
      ],
      "metadata": {
        "id": "SDzBNoIioT-k"
      }
    },
    {
      "cell_type": "code",
      "source": [
        "future = model.make_future_dataframe(periods=365)"
      ],
      "metadata": {
        "id": "WPuJ3ex-n2cA"
      },
      "execution_count": null,
      "outputs": []
    },
    {
      "cell_type": "code",
      "source": [
        "forecast = model.predict(future)"
      ],
      "metadata": {
        "id": "lwKCNo_Jo4cI"
      },
      "execution_count": null,
      "outputs": []
    },
    {
      "cell_type": "markdown",
      "source": [
        "<h1>이전 기록을 포함을 할 수 있음</h1>"
      ],
      "metadata": {
        "id": "vLW77cKlC8Jp"
      }
    },
    {
      "cell_type": "code",
      "source": [
        "help(model.make_future_dataframe)"
      ],
      "metadata": {
        "id": "SRFcEc6BC0Tc"
      },
      "execution_count": null,
      "outputs": []
    },
    {
      "cell_type": "code",
      "source": [
        "forecast.columns"
      ],
      "metadata": {
        "id": "Y_0KVjVAC3yz"
      },
      "execution_count": null,
      "outputs": []
    },
    {
      "cell_type": "code",
      "source": [
        "help(model.plot)"
      ],
      "metadata": {
        "id": "_ehuQ6b9DRKA"
      },
      "execution_count": null,
      "outputs": []
    },
    {
      "cell_type": "code",
      "source": [
        "fig1 = model.plot(forecast)"
      ],
      "metadata": {
        "id": "91TMScijDhEF"
      },
      "execution_count": null,
      "outputs": []
    },
    {
      "cell_type": "code",
      "source": [
        "forecast.shape"
      ],
      "metadata": {
        "id": "orkeJ_nOD2pr"
      },
      "execution_count": null,
      "outputs": []
    },
    {
      "cell_type": "code",
      "source": [
        "help(model.plot_components)"
      ],
      "metadata": {
        "id": "VSuTDgvHFjyT"
      },
      "execution_count": null,
      "outputs": []
    },
    {
      "cell_type": "code",
      "source": [
        "fig2 = model.plot_components(forecast)"
      ],
      "metadata": {
        "id": "CL2EIx-DFbS-"
      },
      "execution_count": null,
      "outputs": []
    },
    {
      "cell_type": "markdown",
      "source": [
        "<h1>기존 데이터 2007~2016</h1>"
      ],
      "metadata": {
        "id": "H4dvhaR9EFuG"
      }
    },
    {
      "cell_type": "code",
      "source": [
        "forecast.columns"
      ],
      "metadata": {
        "id": "YQUARQvXG4St"
      },
      "execution_count": null,
      "outputs": []
    },
    {
      "cell_type": "markdown",
      "source": [
        "<h1>upper lower는 예측의 범위</h1>"
      ],
      "metadata": {
        "id": "kjsYKU4OLU6V"
      }
    },
    {
      "cell_type": "code",
      "source": [
        "plt.figure(figsize=(20,10))\n",
        "plt.plot(forecast['yhat_lower'],color='red',label='yhat_lower')\n",
        "plt.plot(forecast['yhat_upper'],color='blue',label='yhat_upper')\n",
        "plt.plot(df['y'],color='green',label='ground truth')\n",
        "plt.plot(forecast['yhat'],color='orange',label='yhat')\n",
        "plt.legend()"
      ],
      "metadata": {
        "id": "mwA5UmIPG7oF"
      },
      "execution_count": null,
      "outputs": []
    },
    {
      "cell_type": "code",
      "source": [
        "plt.figure(figsize=(20,10))\n",
        "plt.plot(df['y'],color='green',label='ground truth')\n",
        "plt.plot(forecast['yhat'],color='orange',label='yhat')\n",
        "plt.legend()"
      ],
      "metadata": {
        "id": "Fc9e3n_vJD52"
      },
      "execution_count": null,
      "outputs": []
    },
    {
      "cell_type": "markdown",
      "source": [
        "<h1>train validation으로 나눠서 학습</h1>"
      ],
      "metadata": {
        "id": "duVID59PIgba"
      }
    },
    {
      "cell_type": "markdown",
      "source": [
        "train : 2000개의 데이터로 추세 파악\n",
        "validation : 600개의 데이터로 검증 \n",
        "\n",
        "test : 300개의 데이터로 성능평가"
      ],
      "metadata": {
        "id": "0FTP_tlBOV9V"
      }
    },
    {
      "cell_type": "code",
      "source": [
        "df.shape"
      ],
      "metadata": {
        "id": "uh5kBknDHIHm"
      },
      "execution_count": null,
      "outputs": []
    },
    {
      "cell_type": "code",
      "source": [
        "train_data = df.iloc[:2000]\n",
        "validation_data = df.iloc[2000:2600]\n",
        "test_data = df.iloc[2600:]"
      ],
      "metadata": {
        "id": "dDsNo1BdJ5j9"
      },
      "execution_count": null,
      "outputs": []
    },
    {
      "cell_type": "code",
      "source": [
        "train_data.shape, test_data.shape, validation_data.shape"
      ],
      "metadata": {
        "id": "d2tyPl8QKCAO"
      },
      "execution_count": null,
      "outputs": []
    },
    {
      "cell_type": "code",
      "source": [
        "model2 = Prophet()\n",
        "model2.fit(train_data)"
      ],
      "metadata": {
        "id": "JBR_G0zzKDX4"
      },
      "execution_count": null,
      "outputs": []
    },
    {
      "cell_type": "code",
      "source": [
        "#forecast2 = model2.predict(test_data)\n",
        "\n",
        "forecast2 = model2.predict(validation_data)"
      ],
      "metadata": {
        "id": "BMbXLpYSKP2O"
      },
      "execution_count": null,
      "outputs": []
    },
    {
      "cell_type": "code",
      "source": [
        "forecast2.shape"
      ],
      "metadata": {
        "id": "JXLR_d9IKlvp"
      },
      "execution_count": null,
      "outputs": []
    },
    {
      "cell_type": "code",
      "source": [
        "forecast2.columns"
      ],
      "metadata": {
        "id": "JpfNZGsELEWH"
      },
      "execution_count": null,
      "outputs": []
    },
    {
      "cell_type": "code",
      "source": [
        "#test_data_index_reset = test_data.reset_index()\n",
        "\n",
        "validation_data = validation_data.reset_index()"
      ],
      "metadata": {
        "id": "IQsRfKzhNk9l"
      },
      "execution_count": null,
      "outputs": []
    },
    {
      "cell_type": "code",
      "source": [
        "validation_data.head(5)"
      ],
      "metadata": {
        "id": "aB3VMUHDOCIb"
      },
      "execution_count": null,
      "outputs": []
    },
    {
      "cell_type": "code",
      "source": [
        "validation_data.shape , forecast2.shape"
      ],
      "metadata": {
        "id": "IQ4EuopMRD7Z"
      },
      "execution_count": null,
      "outputs": []
    },
    {
      "cell_type": "code",
      "source": [
        "plt.figure(figsize=(20,8))\n",
        "plt.plot(validation_data['y'],label='ground_truth')\n",
        "plt.plot(forecast2['yhat'],label='yhat')\n",
        "# plt.plot(forecast2['yhat_upper'],label='yhat_upper')\n",
        "# plt.plot(forecast2['yhat_lower'],label='yhat_lower')\n",
        "plt.legend()"
      ],
      "metadata": {
        "id": "h2waPgbPKpTQ"
      },
      "execution_count": null,
      "outputs": []
    },
    {
      "cell_type": "markdown",
      "source": [
        "<h1>MAPE 계산</h1>"
      ],
      "metadata": {
        "id": "MhzVuLgbKzfF"
      }
    },
    {
      "cell_type": "code",
      "source": [
        "def MAPE(y_test,y_pred):\n",
        "    return np.mean(np.abs((y_test - y_pred) / y_test)) * 100 "
      ],
      "metadata": {
        "id": "JiI56NTxRyiY"
      },
      "execution_count": null,
      "outputs": []
    },
    {
      "cell_type": "code",
      "source": [
        "MAPE(validation_data['y'],forecast2['yhat'])"
      ],
      "metadata": {
        "id": "_6ja2-jOR-AS"
      },
      "execution_count": null,
      "outputs": []
    },
    {
      "cell_type": "code",
      "source": [
        "from fbprophet.plot import add_changepoints_to_plot"
      ],
      "metadata": {
        "id": "D7Fk-6dMSEe_"
      },
      "execution_count": null,
      "outputs": []
    },
    {
      "cell_type": "code",
      "source": [
        "fig1 = model2.plot(forecast2)\n",
        "a = add_changepoints_to_plot(fig1.gca(),model2,forecast2)"
      ],
      "metadata": {
        "id": "3qqLCZ6NVGtw"
      },
      "execution_count": null,
      "outputs": []
    },
    {
      "cell_type": "code",
      "source": [
        "forecast2['ds'], validation_data['ds']"
      ],
      "metadata": {
        "id": "clw7Ye87Xs7f"
      },
      "execution_count": null,
      "outputs": []
    },
    {
      "cell_type": "markdown",
      "source": [
        "**parameter searching**\n",
        "changepoint_range = 0.9 (default 0.8)\n",
        "changepoint_prior_scale = 0.1(default 0.05) 값을 늘리면 underfitting 해결, 값을 줄이면 overfitting 해결\n",
        "\n"
      ],
      "metadata": {
        "id": "QkABnrSdVN-F"
      }
    },
    {
      "cell_type": "code",
      "source": [
        "model3 = Prophet(changepoint_range=0.9, changepoint_prior_scale=0.5)"
      ],
      "metadata": {
        "id": "2GtecF-qWPY6"
      },
      "execution_count": null,
      "outputs": []
    },
    {
      "cell_type": "code",
      "source": [
        "model3 = Prophet(changepoint_range=0.9, changepoint_prior_scale=0.001)\n",
        "model3.fit(train_data)\n",
        "forecast3 = model3.predict(validation_data)\n"
      ],
      "metadata": {
        "id": "EAGbkX7qYMVM"
      },
      "execution_count": null,
      "outputs": []
    },
    {
      "cell_type": "code",
      "source": [
        "changepoint_prior_scale=[0.01,0.05,0.1,0.5,1]\n",
        "\n",
        "for cps in changepoint_prior_scale:\n",
        "    model = Prophet(changepoint_range=0.9, changepoint_prior_scale=cps)\n",
        "    model.fit(train_data)\n",
        "    forecast = model.predict(validation_data)\n",
        "    plt.figure(figsize=(15,6))\n",
        "    mape = MAPE(validation_data['y'],forecast['yhat'])\n",
        "    plt.title(\"Model with changepoint_prior scale {} and mape: {}\".format(cps,round(mape,2)),fontsize=25)\n",
        "    plt.plot(validation_data['y'],label='ground_truth')\n",
        "    plt.plot(forecast['yhat'],label='yhat')\n",
        "    plt.legend()\n",
        "\n"
      ],
      "metadata": {
        "id": "4e8woGPxZjjE"
      },
      "execution_count": null,
      "outputs": []
    },
    {
      "cell_type": "code",
      "source": [
        ""
      ],
      "metadata": {
        "id": "QuaW1DLtYwGc"
      },
      "execution_count": null,
      "outputs": []
    }
  ]
}
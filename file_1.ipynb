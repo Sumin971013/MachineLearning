{
 "cells": [
  {
   "cell_type": "code",
   "execution_count": 92,
   "metadata": {},
   "outputs": [],
   "source": [
    "import numpy as np\n",
    "import matplotlib.pyplot as plt\n",
    "import seaborn as sns\n",
    "import pandas as pd\n",
    "from os.path import join\n",
    "from sklearn.ensemble import IsolationForest\n",
    "from sklearn.metrics import confusion_matrix\n",
    "from sklearn.metrics import accuracy_score"
   ]
  },
  {
   "cell_type": "markdown",
   "metadata": {},
   "source": [
    "# For description dataset\n",
    "# If target value =0 it is cosidered as normal\n",
    "# If it is 1 it is cosidered as outliers"
   ]
  },
  {
   "cell_type": "code",
   "execution_count": null,
   "metadata": {},
   "outputs": [],
   "source": [
    "df = pd.read_csv(join(\"data\",'train_reuter_877_44_1.csv'),header=None)\n",
    "test = pd.read_csv(join(\"data\",'test_reuter_877_44_1.csv'),header=None)\n",
    "\n",
    "# feature name 변환\n",
    "columns = [f\"w{i}\" for i in range(len(df.columns)-1)]\n",
    "columns.append('is_normal')\n",
    "\n",
    "# feature name 적용\n",
    "df.columns = columns\n",
    "test.columns = columns\n",
    "\n",
    "# 마지막 label is_abnormal column 제거\n",
    "data = df.iloc[:,:-1]\n",
    "label = df.iloc[:,[-1]]\n",
    "\n",
    "#테스트데이터도 마지막 colum 제거 후 레이블만 따로 뻄\n",
    "test_data = test.iloc[:,:-1]\n",
    "test_label = test.iloc[:,[-1]]\n",
    "\n",
    "\n",
    "# 기존은 0이 정상 1이 이상치 변경 0->1.  1->-1 \n",
    "#테스트데이터 적용\n",
    "test_label = test_label.replace(1,-1)\n",
    "test_label = test_label.replace(0,1)\n",
    "\n",
    "#train data 작용\n",
    "label = label.replace(0,1)\n"
   ]
  },
  {
   "cell_type": "code",
   "execution_count": 5,
   "metadata": {},
   "outputs": [],
   "source": [
    "# df_2 = pd.read_csv(join(\"data\",'train_reuter_org_1.csv'),header=None)\n",
    "df = pd.read_csv(join(\"data\",'train_reuter_877_44_1.csv'),header=None)\n",
    "test = pd.read_csv(join(\"data\",'test_reuter_877_44_1.csv'),header=None)\n"
   ]
  },
  {
   "cell_type": "code",
   "execution_count": 3,
   "metadata": {},
   "outputs": [],
   "source": [
    "#df_2 = pd.read_csv(\"train_reuter_877_44_1.csv\",header=None)\n",
    "# df_2 = pd.read_csv(\"train_reuter_org_1.csv\",header=None)"
   ]
  },
  {
   "cell_type": "code",
   "execution_count": 6,
   "metadata": {
    "scrolled": true
   },
   "outputs": [
    {
     "data": {
      "text/html": [
       "<div>\n",
       "<style scoped>\n",
       "    .dataframe tbody tr th:only-of-type {\n",
       "        vertical-align: middle;\n",
       "    }\n",
       "\n",
       "    .dataframe tbody tr th {\n",
       "        vertical-align: top;\n",
       "    }\n",
       "\n",
       "    .dataframe thead th {\n",
       "        text-align: right;\n",
       "    }\n",
       "</style>\n",
       "<table border=\"1\" class=\"dataframe\">\n",
       "  <thead>\n",
       "    <tr style=\"text-align: right;\">\n",
       "      <th></th>\n",
       "      <th>0</th>\n",
       "      <th>1</th>\n",
       "      <th>2</th>\n",
       "      <th>3</th>\n",
       "      <th>4</th>\n",
       "      <th>5</th>\n",
       "      <th>6</th>\n",
       "      <th>7</th>\n",
       "      <th>8</th>\n",
       "      <th>9</th>\n",
       "      <th>...</th>\n",
       "      <th>35</th>\n",
       "      <th>36</th>\n",
       "      <th>37</th>\n",
       "      <th>38</th>\n",
       "      <th>39</th>\n",
       "      <th>40</th>\n",
       "      <th>41</th>\n",
       "      <th>42</th>\n",
       "      <th>43</th>\n",
       "      <th>44</th>\n",
       "    </tr>\n",
       "  </thead>\n",
       "  <tbody>\n",
       "    <tr>\n",
       "      <th>0</th>\n",
       "      <td>0.80564</td>\n",
       "      <td>1.03990</td>\n",
       "      <td>1.05160</td>\n",
       "      <td>1.06240</td>\n",
       "      <td>1.06300</td>\n",
       "      <td>1.07220</td>\n",
       "      <td>1.08180</td>\n",
       "      <td>1.09360</td>\n",
       "      <td>1.09570</td>\n",
       "      <td>1.09600</td>\n",
       "      <td>...</td>\n",
       "      <td>1.14010</td>\n",
       "      <td>1.14030</td>\n",
       "      <td>1.14110</td>\n",
       "      <td>1.14120</td>\n",
       "      <td>1.14190</td>\n",
       "      <td>1.14360</td>\n",
       "      <td>1.14380</td>\n",
       "      <td>1.14380</td>\n",
       "      <td>1.14410</td>\n",
       "      <td>0</td>\n",
       "    </tr>\n",
       "    <tr>\n",
       "      <th>1</th>\n",
       "      <td>0.94974</td>\n",
       "      <td>0.95941</td>\n",
       "      <td>1.00590</td>\n",
       "      <td>1.00800</td>\n",
       "      <td>1.03210</td>\n",
       "      <td>1.03550</td>\n",
       "      <td>1.04340</td>\n",
       "      <td>1.04350</td>\n",
       "      <td>1.05560</td>\n",
       "      <td>1.05700</td>\n",
       "      <td>...</td>\n",
       "      <td>1.10190</td>\n",
       "      <td>1.10480</td>\n",
       "      <td>1.10550</td>\n",
       "      <td>1.10550</td>\n",
       "      <td>1.10590</td>\n",
       "      <td>1.10700</td>\n",
       "      <td>1.10820</td>\n",
       "      <td>1.11020</td>\n",
       "      <td>1.11170</td>\n",
       "      <td>0</td>\n",
       "    </tr>\n",
       "    <tr>\n",
       "      <th>2</th>\n",
       "      <td>0.49153</td>\n",
       "      <td>0.65380</td>\n",
       "      <td>0.70683</td>\n",
       "      <td>0.70803</td>\n",
       "      <td>0.81065</td>\n",
       "      <td>0.85390</td>\n",
       "      <td>0.85520</td>\n",
       "      <td>0.87345</td>\n",
       "      <td>0.90402</td>\n",
       "      <td>0.91982</td>\n",
       "      <td>...</td>\n",
       "      <td>1.10650</td>\n",
       "      <td>1.10660</td>\n",
       "      <td>1.10890</td>\n",
       "      <td>1.11180</td>\n",
       "      <td>1.11390</td>\n",
       "      <td>1.11760</td>\n",
       "      <td>1.11980</td>\n",
       "      <td>1.12120</td>\n",
       "      <td>1.12140</td>\n",
       "      <td>0</td>\n",
       "    </tr>\n",
       "    <tr>\n",
       "      <th>3</th>\n",
       "      <td>0.35153</td>\n",
       "      <td>0.58909</td>\n",
       "      <td>0.73177</td>\n",
       "      <td>0.73334</td>\n",
       "      <td>0.77836</td>\n",
       "      <td>0.82453</td>\n",
       "      <td>0.83517</td>\n",
       "      <td>0.83915</td>\n",
       "      <td>0.85313</td>\n",
       "      <td>0.86826</td>\n",
       "      <td>...</td>\n",
       "      <td>0.98292</td>\n",
       "      <td>0.98389</td>\n",
       "      <td>0.99304</td>\n",
       "      <td>0.99457</td>\n",
       "      <td>1.00010</td>\n",
       "      <td>1.00410</td>\n",
       "      <td>1.00500</td>\n",
       "      <td>1.01530</td>\n",
       "      <td>1.01860</td>\n",
       "      <td>0</td>\n",
       "    </tr>\n",
       "    <tr>\n",
       "      <th>4</th>\n",
       "      <td>0.65377</td>\n",
       "      <td>0.96085</td>\n",
       "      <td>0.96292</td>\n",
       "      <td>0.98122</td>\n",
       "      <td>0.98278</td>\n",
       "      <td>0.99948</td>\n",
       "      <td>0.99996</td>\n",
       "      <td>1.00170</td>\n",
       "      <td>1.01250</td>\n",
       "      <td>1.01920</td>\n",
       "      <td>...</td>\n",
       "      <td>1.09060</td>\n",
       "      <td>1.09160</td>\n",
       "      <td>1.09200</td>\n",
       "      <td>1.09420</td>\n",
       "      <td>1.09520</td>\n",
       "      <td>1.09730</td>\n",
       "      <td>1.10030</td>\n",
       "      <td>1.10130</td>\n",
       "      <td>1.10130</td>\n",
       "      <td>0</td>\n",
       "    </tr>\n",
       "    <tr>\n",
       "      <th>5</th>\n",
       "      <td>0.92654</td>\n",
       "      <td>0.98616</td>\n",
       "      <td>1.03620</td>\n",
       "      <td>1.05940</td>\n",
       "      <td>1.06530</td>\n",
       "      <td>1.06680</td>\n",
       "      <td>1.06810</td>\n",
       "      <td>1.07280</td>\n",
       "      <td>1.07380</td>\n",
       "      <td>1.07510</td>\n",
       "      <td>...</td>\n",
       "      <td>1.13430</td>\n",
       "      <td>1.13520</td>\n",
       "      <td>1.13780</td>\n",
       "      <td>1.13820</td>\n",
       "      <td>1.13970</td>\n",
       "      <td>1.14120</td>\n",
       "      <td>1.14130</td>\n",
       "      <td>1.14160</td>\n",
       "      <td>1.14200</td>\n",
       "      <td>0</td>\n",
       "    </tr>\n",
       "    <tr>\n",
       "      <th>6</th>\n",
       "      <td>0.52838</td>\n",
       "      <td>0.85345</td>\n",
       "      <td>0.88262</td>\n",
       "      <td>0.89068</td>\n",
       "      <td>0.91130</td>\n",
       "      <td>0.97044</td>\n",
       "      <td>0.99184</td>\n",
       "      <td>1.00280</td>\n",
       "      <td>1.00460</td>\n",
       "      <td>1.02240</td>\n",
       "      <td>...</td>\n",
       "      <td>1.11960</td>\n",
       "      <td>1.12420</td>\n",
       "      <td>1.12470</td>\n",
       "      <td>1.12870</td>\n",
       "      <td>1.12940</td>\n",
       "      <td>1.12960</td>\n",
       "      <td>1.13200</td>\n",
       "      <td>1.13520</td>\n",
       "      <td>1.13780</td>\n",
       "      <td>0</td>\n",
       "    </tr>\n",
       "    <tr>\n",
       "      <th>7</th>\n",
       "      <td>0.49038</td>\n",
       "      <td>0.78243</td>\n",
       "      <td>0.87752</td>\n",
       "      <td>0.89555</td>\n",
       "      <td>0.91822</td>\n",
       "      <td>0.92213</td>\n",
       "      <td>0.97251</td>\n",
       "      <td>0.97571</td>\n",
       "      <td>0.99286</td>\n",
       "      <td>1.01250</td>\n",
       "      <td>...</td>\n",
       "      <td>1.08450</td>\n",
       "      <td>1.08510</td>\n",
       "      <td>1.08800</td>\n",
       "      <td>1.08860</td>\n",
       "      <td>1.08890</td>\n",
       "      <td>1.08970</td>\n",
       "      <td>1.08980</td>\n",
       "      <td>1.09010</td>\n",
       "      <td>1.09050</td>\n",
       "      <td>0</td>\n",
       "    </tr>\n",
       "    <tr>\n",
       "      <th>8</th>\n",
       "      <td>0.57544</td>\n",
       "      <td>1.03560</td>\n",
       "      <td>1.04940</td>\n",
       "      <td>1.06900</td>\n",
       "      <td>1.07500</td>\n",
       "      <td>1.07540</td>\n",
       "      <td>1.08100</td>\n",
       "      <td>1.10100</td>\n",
       "      <td>1.10340</td>\n",
       "      <td>1.10620</td>\n",
       "      <td>...</td>\n",
       "      <td>1.14700</td>\n",
       "      <td>1.14840</td>\n",
       "      <td>1.14900</td>\n",
       "      <td>1.14960</td>\n",
       "      <td>1.15010</td>\n",
       "      <td>1.15010</td>\n",
       "      <td>1.15010</td>\n",
       "      <td>1.15050</td>\n",
       "      <td>1.15470</td>\n",
       "      <td>0</td>\n",
       "    </tr>\n",
       "    <tr>\n",
       "      <th>9</th>\n",
       "      <td>0.87647</td>\n",
       "      <td>0.98766</td>\n",
       "      <td>1.04660</td>\n",
       "      <td>1.06610</td>\n",
       "      <td>1.07250</td>\n",
       "      <td>1.07470</td>\n",
       "      <td>1.07630</td>\n",
       "      <td>1.08020</td>\n",
       "      <td>1.08360</td>\n",
       "      <td>1.09470</td>\n",
       "      <td>...</td>\n",
       "      <td>1.14360</td>\n",
       "      <td>1.14380</td>\n",
       "      <td>1.14390</td>\n",
       "      <td>1.14410</td>\n",
       "      <td>1.14560</td>\n",
       "      <td>1.14710</td>\n",
       "      <td>1.14760</td>\n",
       "      <td>1.14760</td>\n",
       "      <td>1.14840</td>\n",
       "      <td>0</td>\n",
       "    </tr>\n",
       "    <tr>\n",
       "      <th>10</th>\n",
       "      <td>0.64708</td>\n",
       "      <td>1.02970</td>\n",
       "      <td>1.04610</td>\n",
       "      <td>1.05930</td>\n",
       "      <td>1.06630</td>\n",
       "      <td>1.07860</td>\n",
       "      <td>1.09090</td>\n",
       "      <td>1.09130</td>\n",
       "      <td>1.09260</td>\n",
       "      <td>1.09580</td>\n",
       "      <td>...</td>\n",
       "      <td>1.14050</td>\n",
       "      <td>1.14060</td>\n",
       "      <td>1.14130</td>\n",
       "      <td>1.14260</td>\n",
       "      <td>1.14270</td>\n",
       "      <td>1.14350</td>\n",
       "      <td>1.14470</td>\n",
       "      <td>1.14490</td>\n",
       "      <td>1.14600</td>\n",
       "      <td>0</td>\n",
       "    </tr>\n",
       "    <tr>\n",
       "      <th>11</th>\n",
       "      <td>0.91076</td>\n",
       "      <td>1.00520</td>\n",
       "      <td>1.01340</td>\n",
       "      <td>1.02120</td>\n",
       "      <td>1.02810</td>\n",
       "      <td>1.02910</td>\n",
       "      <td>1.04970</td>\n",
       "      <td>1.05010</td>\n",
       "      <td>1.05410</td>\n",
       "      <td>1.06640</td>\n",
       "      <td>...</td>\n",
       "      <td>1.12640</td>\n",
       "      <td>1.12710</td>\n",
       "      <td>1.12770</td>\n",
       "      <td>1.12930</td>\n",
       "      <td>1.13030</td>\n",
       "      <td>1.13090</td>\n",
       "      <td>1.13150</td>\n",
       "      <td>1.13230</td>\n",
       "      <td>1.13520</td>\n",
       "      <td>0</td>\n",
       "    </tr>\n",
       "    <tr>\n",
       "      <th>12</th>\n",
       "      <td>0.00000</td>\n",
       "      <td>1.05240</td>\n",
       "      <td>1.05750</td>\n",
       "      <td>1.06490</td>\n",
       "      <td>1.06970</td>\n",
       "      <td>1.07730</td>\n",
       "      <td>1.08740</td>\n",
       "      <td>1.08790</td>\n",
       "      <td>1.09370</td>\n",
       "      <td>1.09460</td>\n",
       "      <td>...</td>\n",
       "      <td>1.14430</td>\n",
       "      <td>1.14450</td>\n",
       "      <td>1.14490</td>\n",
       "      <td>1.14610</td>\n",
       "      <td>1.14650</td>\n",
       "      <td>1.14690</td>\n",
       "      <td>1.14770</td>\n",
       "      <td>1.14780</td>\n",
       "      <td>1.14830</td>\n",
       "      <td>0</td>\n",
       "    </tr>\n",
       "    <tr>\n",
       "      <th>13</th>\n",
       "      <td>0.18884</td>\n",
       "      <td>0.21029</td>\n",
       "      <td>0.52253</td>\n",
       "      <td>0.58642</td>\n",
       "      <td>0.64906</td>\n",
       "      <td>0.66275</td>\n",
       "      <td>0.67838</td>\n",
       "      <td>0.68668</td>\n",
       "      <td>0.73198</td>\n",
       "      <td>0.74163</td>\n",
       "      <td>...</td>\n",
       "      <td>0.94447</td>\n",
       "      <td>0.95079</td>\n",
       "      <td>0.95154</td>\n",
       "      <td>0.95239</td>\n",
       "      <td>0.95699</td>\n",
       "      <td>0.95783</td>\n",
       "      <td>0.96319</td>\n",
       "      <td>0.96512</td>\n",
       "      <td>0.96593</td>\n",
       "      <td>0</td>\n",
       "    </tr>\n",
       "    <tr>\n",
       "      <th>14</th>\n",
       "      <td>0.81781</td>\n",
       "      <td>0.97605</td>\n",
       "      <td>1.00290</td>\n",
       "      <td>1.00370</td>\n",
       "      <td>1.01570</td>\n",
       "      <td>1.03210</td>\n",
       "      <td>1.04680</td>\n",
       "      <td>1.05660</td>\n",
       "      <td>1.05730</td>\n",
       "      <td>1.06510</td>\n",
       "      <td>...</td>\n",
       "      <td>1.13270</td>\n",
       "      <td>1.13310</td>\n",
       "      <td>1.13340</td>\n",
       "      <td>1.13480</td>\n",
       "      <td>1.13520</td>\n",
       "      <td>1.13540</td>\n",
       "      <td>1.13600</td>\n",
       "      <td>1.13610</td>\n",
       "      <td>1.13630</td>\n",
       "      <td>0</td>\n",
       "    </tr>\n",
       "  </tbody>\n",
       "</table>\n",
       "<p>15 rows × 45 columns</p>\n",
       "</div>"
      ],
      "text/plain": [
       "         0        1        2        3        4        5        6        7   \\\n",
       "0   0.80564  1.03990  1.05160  1.06240  1.06300  1.07220  1.08180  1.09360   \n",
       "1   0.94974  0.95941  1.00590  1.00800  1.03210  1.03550  1.04340  1.04350   \n",
       "2   0.49153  0.65380  0.70683  0.70803  0.81065  0.85390  0.85520  0.87345   \n",
       "3   0.35153  0.58909  0.73177  0.73334  0.77836  0.82453  0.83517  0.83915   \n",
       "4   0.65377  0.96085  0.96292  0.98122  0.98278  0.99948  0.99996  1.00170   \n",
       "5   0.92654  0.98616  1.03620  1.05940  1.06530  1.06680  1.06810  1.07280   \n",
       "6   0.52838  0.85345  0.88262  0.89068  0.91130  0.97044  0.99184  1.00280   \n",
       "7   0.49038  0.78243  0.87752  0.89555  0.91822  0.92213  0.97251  0.97571   \n",
       "8   0.57544  1.03560  1.04940  1.06900  1.07500  1.07540  1.08100  1.10100   \n",
       "9   0.87647  0.98766  1.04660  1.06610  1.07250  1.07470  1.07630  1.08020   \n",
       "10  0.64708  1.02970  1.04610  1.05930  1.06630  1.07860  1.09090  1.09130   \n",
       "11  0.91076  1.00520  1.01340  1.02120  1.02810  1.02910  1.04970  1.05010   \n",
       "12  0.00000  1.05240  1.05750  1.06490  1.06970  1.07730  1.08740  1.08790   \n",
       "13  0.18884  0.21029  0.52253  0.58642  0.64906  0.66275  0.67838  0.68668   \n",
       "14  0.81781  0.97605  1.00290  1.00370  1.01570  1.03210  1.04680  1.05660   \n",
       "\n",
       "         8        9   ...       35       36       37       38       39  \\\n",
       "0   1.09570  1.09600  ...  1.14010  1.14030  1.14110  1.14120  1.14190   \n",
       "1   1.05560  1.05700  ...  1.10190  1.10480  1.10550  1.10550  1.10590   \n",
       "2   0.90402  0.91982  ...  1.10650  1.10660  1.10890  1.11180  1.11390   \n",
       "3   0.85313  0.86826  ...  0.98292  0.98389  0.99304  0.99457  1.00010   \n",
       "4   1.01250  1.01920  ...  1.09060  1.09160  1.09200  1.09420  1.09520   \n",
       "5   1.07380  1.07510  ...  1.13430  1.13520  1.13780  1.13820  1.13970   \n",
       "6   1.00460  1.02240  ...  1.11960  1.12420  1.12470  1.12870  1.12940   \n",
       "7   0.99286  1.01250  ...  1.08450  1.08510  1.08800  1.08860  1.08890   \n",
       "8   1.10340  1.10620  ...  1.14700  1.14840  1.14900  1.14960  1.15010   \n",
       "9   1.08360  1.09470  ...  1.14360  1.14380  1.14390  1.14410  1.14560   \n",
       "10  1.09260  1.09580  ...  1.14050  1.14060  1.14130  1.14260  1.14270   \n",
       "11  1.05410  1.06640  ...  1.12640  1.12710  1.12770  1.12930  1.13030   \n",
       "12  1.09370  1.09460  ...  1.14430  1.14450  1.14490  1.14610  1.14650   \n",
       "13  0.73198  0.74163  ...  0.94447  0.95079  0.95154  0.95239  0.95699   \n",
       "14  1.05730  1.06510  ...  1.13270  1.13310  1.13340  1.13480  1.13520   \n",
       "\n",
       "         40       41       42       43  44  \n",
       "0   1.14360  1.14380  1.14380  1.14410   0  \n",
       "1   1.10700  1.10820  1.11020  1.11170   0  \n",
       "2   1.11760  1.11980  1.12120  1.12140   0  \n",
       "3   1.00410  1.00500  1.01530  1.01860   0  \n",
       "4   1.09730  1.10030  1.10130  1.10130   0  \n",
       "5   1.14120  1.14130  1.14160  1.14200   0  \n",
       "6   1.12960  1.13200  1.13520  1.13780   0  \n",
       "7   1.08970  1.08980  1.09010  1.09050   0  \n",
       "8   1.15010  1.15010  1.15050  1.15470   0  \n",
       "9   1.14710  1.14760  1.14760  1.14840   0  \n",
       "10  1.14350  1.14470  1.14490  1.14600   0  \n",
       "11  1.13090  1.13150  1.13230  1.13520   0  \n",
       "12  1.14690  1.14770  1.14780  1.14830   0  \n",
       "13  0.95783  0.96319  0.96512  0.96593   0  \n",
       "14  1.13540  1.13600  1.13610  1.13630   0  \n",
       "\n",
       "[15 rows x 45 columns]"
      ]
     },
     "execution_count": 6,
     "metadata": {},
     "output_type": "execute_result"
    }
   ],
   "source": [
    "df.head(15)"
   ]
  },
  {
   "cell_type": "code",
   "execution_count": 16,
   "metadata": {},
   "outputs": [],
   "source": [
    "# cl = [f\"w{i}\" for i in range(len(test.columns)-1)]\n",
    "# cl.append('is_anomal')\n",
    "# test.columns = cl\n",
    "\n",
    "columns = [f\"w{i}\" for i in range(len(df.columns)-1)]\n",
    "columns.append('is_normal')\n",
    "\n",
    "\n",
    "df.columns = columns"
   ]
  },
  {
   "cell_type": "code",
   "execution_count": 30,
   "metadata": {},
   "outputs": [],
   "source": [
    "test.columns = columns\n"
   ]
  },
  {
   "cell_type": "code",
   "execution_count": 32,
   "metadata": {},
   "outputs": [
    {
     "data": {
      "text/plain": [
       "array([0, 1])"
      ]
     },
     "execution_count": 32,
     "metadata": {},
     "output_type": "execute_result"
    }
   ],
   "source": [
    "test['is_normal'].unique()"
   ]
  },
  {
   "cell_type": "code",
   "execution_count": 34,
   "metadata": {},
   "outputs": [
    {
     "data": {
      "text/plain": [
       "array([0])"
      ]
     },
     "execution_count": 34,
     "metadata": {},
     "output_type": "execute_result"
    }
   ],
   "source": [
    "df['is_normal'].unique()"
   ]
  },
  {
   "cell_type": "code",
   "execution_count": 21,
   "metadata": {},
   "outputs": [],
   "source": [
    "data = df.iloc[:,:-1]\n",
    "label = df.iloc[:,[-1]]"
   ]
  },
  {
   "cell_type": "code",
   "execution_count": 61,
   "metadata": {},
   "outputs": [],
   "source": [
    "train_label = label.to_numpy()\n",
    "train_label = train_label.reshape(-1)"
   ]
  },
  {
   "cell_type": "code",
   "execution_count": 40,
   "metadata": {},
   "outputs": [],
   "source": [
    "test_data = test.iloc[:,:-1]\n",
    "test_label = test.iloc[:,[-1]]"
   ]
  },
  {
   "cell_type": "markdown",
   "metadata": {},
   "source": [
    "# test data 레이블 변환 1:normal , -1:abnormal"
   ]
  },
  {
   "cell_type": "code",
   "execution_count": 46,
   "metadata": {},
   "outputs": [],
   "source": [
    "test_label = test_label.replace(1,-1)\n",
    "test_label = test_label.replace(0,1)"
   ]
  },
  {
   "cell_type": "markdown",
   "metadata": {},
   "source": [
    "# 기존에 정상은 0이지만 1로 변환 나중 sklearn을 대비"
   ]
  },
  {
   "cell_type": "code",
   "execution_count": 26,
   "metadata": {},
   "outputs": [],
   "source": [
    "label = label.replace(0,1)"
   ]
  },
  {
   "cell_type": "code",
   "execution_count": 28,
   "metadata": {},
   "outputs": [
    {
     "data": {
      "text/html": [
       "<div>\n",
       "<style scoped>\n",
       "    .dataframe tbody tr th:only-of-type {\n",
       "        vertical-align: middle;\n",
       "    }\n",
       "\n",
       "    .dataframe tbody tr th {\n",
       "        vertical-align: top;\n",
       "    }\n",
       "\n",
       "    .dataframe thead th {\n",
       "        text-align: right;\n",
       "    }\n",
       "</style>\n",
       "<table border=\"1\" class=\"dataframe\">\n",
       "  <thead>\n",
       "    <tr style=\"text-align: right;\">\n",
       "      <th></th>\n",
       "      <th>w0</th>\n",
       "      <th>w1</th>\n",
       "      <th>w2</th>\n",
       "      <th>w3</th>\n",
       "      <th>w4</th>\n",
       "      <th>w5</th>\n",
       "      <th>w6</th>\n",
       "      <th>w7</th>\n",
       "      <th>w8</th>\n",
       "      <th>w9</th>\n",
       "      <th>...</th>\n",
       "      <th>w34</th>\n",
       "      <th>w35</th>\n",
       "      <th>w36</th>\n",
       "      <th>w37</th>\n",
       "      <th>w38</th>\n",
       "      <th>w39</th>\n",
       "      <th>w40</th>\n",
       "      <th>w41</th>\n",
       "      <th>w42</th>\n",
       "      <th>w43</th>\n",
       "    </tr>\n",
       "  </thead>\n",
       "  <tbody>\n",
       "    <tr>\n",
       "      <th>0</th>\n",
       "      <td>0.80564</td>\n",
       "      <td>1.03990</td>\n",
       "      <td>1.05160</td>\n",
       "      <td>1.06240</td>\n",
       "      <td>1.06300</td>\n",
       "      <td>1.07220</td>\n",
       "      <td>1.08180</td>\n",
       "      <td>1.09360</td>\n",
       "      <td>1.09570</td>\n",
       "      <td>1.09600</td>\n",
       "      <td>...</td>\n",
       "      <td>1.13920</td>\n",
       "      <td>1.14010</td>\n",
       "      <td>1.14030</td>\n",
       "      <td>1.14110</td>\n",
       "      <td>1.14120</td>\n",
       "      <td>1.1419</td>\n",
       "      <td>1.1436</td>\n",
       "      <td>1.1438</td>\n",
       "      <td>1.1438</td>\n",
       "      <td>1.1441</td>\n",
       "    </tr>\n",
       "    <tr>\n",
       "      <th>1</th>\n",
       "      <td>0.94974</td>\n",
       "      <td>0.95941</td>\n",
       "      <td>1.00590</td>\n",
       "      <td>1.00800</td>\n",
       "      <td>1.03210</td>\n",
       "      <td>1.03550</td>\n",
       "      <td>1.04340</td>\n",
       "      <td>1.04350</td>\n",
       "      <td>1.05560</td>\n",
       "      <td>1.05700</td>\n",
       "      <td>...</td>\n",
       "      <td>1.09860</td>\n",
       "      <td>1.10190</td>\n",
       "      <td>1.10480</td>\n",
       "      <td>1.10550</td>\n",
       "      <td>1.10550</td>\n",
       "      <td>1.1059</td>\n",
       "      <td>1.1070</td>\n",
       "      <td>1.1082</td>\n",
       "      <td>1.1102</td>\n",
       "      <td>1.1117</td>\n",
       "    </tr>\n",
       "    <tr>\n",
       "      <th>2</th>\n",
       "      <td>0.49153</td>\n",
       "      <td>0.65380</td>\n",
       "      <td>0.70683</td>\n",
       "      <td>0.70803</td>\n",
       "      <td>0.81065</td>\n",
       "      <td>0.85390</td>\n",
       "      <td>0.85520</td>\n",
       "      <td>0.87345</td>\n",
       "      <td>0.90402</td>\n",
       "      <td>0.91982</td>\n",
       "      <td>...</td>\n",
       "      <td>1.10360</td>\n",
       "      <td>1.10650</td>\n",
       "      <td>1.10660</td>\n",
       "      <td>1.10890</td>\n",
       "      <td>1.11180</td>\n",
       "      <td>1.1139</td>\n",
       "      <td>1.1176</td>\n",
       "      <td>1.1198</td>\n",
       "      <td>1.1212</td>\n",
       "      <td>1.1214</td>\n",
       "    </tr>\n",
       "    <tr>\n",
       "      <th>3</th>\n",
       "      <td>0.35153</td>\n",
       "      <td>0.58909</td>\n",
       "      <td>0.73177</td>\n",
       "      <td>0.73334</td>\n",
       "      <td>0.77836</td>\n",
       "      <td>0.82453</td>\n",
       "      <td>0.83517</td>\n",
       "      <td>0.83915</td>\n",
       "      <td>0.85313</td>\n",
       "      <td>0.86826</td>\n",
       "      <td>...</td>\n",
       "      <td>0.97865</td>\n",
       "      <td>0.98292</td>\n",
       "      <td>0.98389</td>\n",
       "      <td>0.99304</td>\n",
       "      <td>0.99457</td>\n",
       "      <td>1.0001</td>\n",
       "      <td>1.0041</td>\n",
       "      <td>1.0050</td>\n",
       "      <td>1.0153</td>\n",
       "      <td>1.0186</td>\n",
       "    </tr>\n",
       "    <tr>\n",
       "      <th>4</th>\n",
       "      <td>0.65377</td>\n",
       "      <td>0.96085</td>\n",
       "      <td>0.96292</td>\n",
       "      <td>0.98122</td>\n",
       "      <td>0.98278</td>\n",
       "      <td>0.99948</td>\n",
       "      <td>0.99996</td>\n",
       "      <td>1.00170</td>\n",
       "      <td>1.01250</td>\n",
       "      <td>1.01920</td>\n",
       "      <td>...</td>\n",
       "      <td>1.09030</td>\n",
       "      <td>1.09060</td>\n",
       "      <td>1.09160</td>\n",
       "      <td>1.09200</td>\n",
       "      <td>1.09420</td>\n",
       "      <td>1.0952</td>\n",
       "      <td>1.0973</td>\n",
       "      <td>1.1003</td>\n",
       "      <td>1.1013</td>\n",
       "      <td>1.1013</td>\n",
       "    </tr>\n",
       "  </tbody>\n",
       "</table>\n",
       "<p>5 rows × 44 columns</p>\n",
       "</div>"
      ],
      "text/plain": [
       "        w0       w1       w2       w3       w4       w5       w6       w7  \\\n",
       "0  0.80564  1.03990  1.05160  1.06240  1.06300  1.07220  1.08180  1.09360   \n",
       "1  0.94974  0.95941  1.00590  1.00800  1.03210  1.03550  1.04340  1.04350   \n",
       "2  0.49153  0.65380  0.70683  0.70803  0.81065  0.85390  0.85520  0.87345   \n",
       "3  0.35153  0.58909  0.73177  0.73334  0.77836  0.82453  0.83517  0.83915   \n",
       "4  0.65377  0.96085  0.96292  0.98122  0.98278  0.99948  0.99996  1.00170   \n",
       "\n",
       "        w8       w9  ...      w34      w35      w36      w37      w38     w39  \\\n",
       "0  1.09570  1.09600  ...  1.13920  1.14010  1.14030  1.14110  1.14120  1.1419   \n",
       "1  1.05560  1.05700  ...  1.09860  1.10190  1.10480  1.10550  1.10550  1.1059   \n",
       "2  0.90402  0.91982  ...  1.10360  1.10650  1.10660  1.10890  1.11180  1.1139   \n",
       "3  0.85313  0.86826  ...  0.97865  0.98292  0.98389  0.99304  0.99457  1.0001   \n",
       "4  1.01250  1.01920  ...  1.09030  1.09060  1.09160  1.09200  1.09420  1.0952   \n",
       "\n",
       "      w40     w41     w42     w43  \n",
       "0  1.1436  1.1438  1.1438  1.1441  \n",
       "1  1.1070  1.1082  1.1102  1.1117  \n",
       "2  1.1176  1.1198  1.1212  1.1214  \n",
       "3  1.0041  1.0050  1.0153  1.0186  \n",
       "4  1.0973  1.1003  1.1013  1.1013  \n",
       "\n",
       "[5 rows x 44 columns]"
      ]
     },
     "execution_count": 28,
     "metadata": {},
     "output_type": "execute_result"
    }
   ],
   "source": [
    "data.head(5)"
   ]
  },
  {
   "cell_type": "code",
   "execution_count": 49,
   "metadata": {},
   "outputs": [
    {
     "data": {
      "text/plain": [
       "((2923, 44), (4903, 44))"
      ]
     },
     "execution_count": 49,
     "metadata": {},
     "output_type": "execute_result"
    }
   ],
   "source": [
    "data.shape , test_data.shape"
   ]
  },
  {
   "cell_type": "code",
   "execution_count": 123,
   "metadata": {},
   "outputs": [],
   "source": [
    "forest = IsolationForest(n_estimators=1000)"
   ]
  },
  {
   "cell_type": "code",
   "execution_count": 124,
   "metadata": {},
   "outputs": [
    {
     "data": {
      "text/plain": [
       "IsolationForest(behaviour='deprecated', bootstrap=False, contamination='auto',\n",
       "                max_features=1.0, max_samples='auto', n_estimators=1000,\n",
       "                n_jobs=None, random_state=None, verbose=0, warm_start=False)"
      ]
     },
     "execution_count": 124,
     "metadata": {},
     "output_type": "execute_result"
    }
   ],
   "source": [
    "forest.fit(data)"
   ]
  },
  {
   "cell_type": "code",
   "execution_count": 125,
   "metadata": {},
   "outputs": [],
   "source": [
    "train_predict = forest.predict(data)"
   ]
  },
  {
   "cell_type": "code",
   "execution_count": 126,
   "metadata": {
    "scrolled": true
   },
   "outputs": [
    {
     "data": {
      "text/plain": [
       "array([ 1,  1, -1, ...,  1, -1,  1])"
      ]
     },
     "execution_count": 126,
     "metadata": {},
     "output_type": "execute_result"
    }
   ],
   "source": [
    "train_predict"
   ]
  },
  {
   "cell_type": "code",
   "execution_count": 127,
   "metadata": {},
   "outputs": [
    {
     "data": {
      "text/plain": [
       "array([1, 1, 1, ..., 1, 1, 1])"
      ]
     },
     "execution_count": 127,
     "metadata": {},
     "output_type": "execute_result"
    }
   ],
   "source": [
    "train_label"
   ]
  },
  {
   "cell_type": "code",
   "execution_count": 128,
   "metadata": {},
   "outputs": [
    {
     "data": {
      "text/plain": [
       "0.6117003079028396"
      ]
     },
     "execution_count": 128,
     "metadata": {},
     "output_type": "execute_result"
    }
   ],
   "source": [
    "list(train_predict).count(1) / train_predict.shape[0]"
   ]
  },
  {
   "cell_type": "markdown",
   "metadata": {},
   "source": [
    "# Test process"
   ]
  },
  {
   "cell_type": "code",
   "execution_count": 129,
   "metadata": {},
   "outputs": [],
   "source": [
    "test_predict = forest.predict(test_data)"
   ]
  },
  {
   "cell_type": "code",
   "execution_count": 130,
   "metadata": {},
   "outputs": [
    {
     "data": {
      "text/plain": [
       "array([ 1,  1,  1, ...,  1, -1,  1])"
      ]
     },
     "execution_count": 130,
     "metadata": {},
     "output_type": "execute_result"
    }
   ],
   "source": [
    "test_predict"
   ]
  },
  {
   "cell_type": "code",
   "execution_count": 131,
   "metadata": {
    "scrolled": true
   },
   "outputs": [
    {
     "data": {
      "text/plain": [
       "0.631858046094228"
      ]
     },
     "execution_count": 131,
     "metadata": {},
     "output_type": "execute_result"
    }
   ],
   "source": [
    "list(test_predict).count(1) / test_predict.shape[0]"
   ]
  },
  {
   "cell_type": "code",
   "execution_count": 132,
   "metadata": {},
   "outputs": [],
   "source": [
    "cnf_matrix = confusion_matrix(train_label, train_predict)"
   ]
  },
  {
   "cell_type": "code",
   "execution_count": 133,
   "metadata": {
    "scrolled": true
   },
   "outputs": [
    {
     "data": {
      "text/plain": [
       "array([[   0,    0],\n",
       "       [1135, 1788]])"
      ]
     },
     "execution_count": 133,
     "metadata": {},
     "output_type": "execute_result"
    }
   ],
   "source": [
    "cnf_matrix"
   ]
  },
  {
   "cell_type": "code",
   "execution_count": 136,
   "metadata": {},
   "outputs": [],
   "source": [
    "test_cmat = confusion_matrix(test_label,test_predict)"
   ]
  },
  {
   "cell_type": "code",
   "execution_count": 137,
   "metadata": {},
   "outputs": [
    {
     "data": {
      "text/plain": [
       "array([[ 623, 1356],\n",
       "       [1182, 1742]])"
      ]
     },
     "execution_count": 137,
     "metadata": {},
     "output_type": "execute_result"
    }
   ],
   "source": [
    "test_cmat"
   ]
  },
  {
   "cell_type": "code",
   "execution_count": 138,
   "metadata": {},
   "outputs": [],
   "source": [
    "y_pred = forest.score_samples(test_data)\n",
    "from sklearn.metrics import roc_curve"
   ]
  },
  {
   "cell_type": "code",
   "execution_count": 140,
   "metadata": {},
   "outputs": [
    {
     "data": {
      "image/png": "[encoded data removed]",
      "text/plain": [
       "<Figure size 432x288 with 1 Axes>"
      ]
     },
     "metadata": {
      "needs_background": "light"
     },
     "output_type": "display_data"
    }
   ],
   "source": [
    "fpr, tpr, thresholds = roc_curve(test_label,y_pred)\n",
    "plt.plot(fpr, tpr, 'k-', lw=2)\n",
    "plt.plot([0,1],[0,1])\n",
    "plt.xlabel('FPR')\n",
    "plt.ylabel('TPR')\n",
    "plt.show()"
   ]
  },
  {
   "cell_type": "code",
   "execution_count": null,
   "metadata": {},
   "outputs": [],
   "source": []
  },
  {
   "cell_type": "code",
   "execution_count": null,
   "metadata": {},
   "outputs": [],
   "source": []
  }
 ],
 "metadata": {
  "kernelspec": {
   "display_name": "Python 3",
   "language": "python",
   "name": "python3"
  },
  "language_info": {
   "codemirror_mode": {
    "name": "ipython",
    "version": 3
   },
   "file_extension": ".py",
   "mimetype": "text/x-python",
   "name": "python",
   "nbconvert_exporter": "python",
   "pygments_lexer": "ipython3",
   "version": "3.7.7"
  }
 },
 "nbformat": 4,
 "nbformat_minor": 4
}

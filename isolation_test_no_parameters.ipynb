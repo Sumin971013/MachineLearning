{
 "cells": [
  {
   "cell_type": "code",
   "execution_count": 1,
   "metadata": {},
   "outputs": [],
   "source": [
    "import pandas as pd\n",
    "import numpy as np\n",
    "import matplotlib.pyplot as plt\n",
    "\n",
    "from os import path\n",
    "import seaborn as sns\n",
    "from sklearn.ensemble import IsolationForest\n",
    "from sklearn.metrics import confusion_matrix\n",
    "from sklearn.metrics import roc_curve\n",
    "import random\n",
    "from sklearn.metrics import roc_curve\n",
    "from sklearn.metrics import roc_auc_score\n"
   ]
  },
  {
   "cell_type": "code",
   "execution_count": 2,
   "metadata": {},
   "outputs": [],
   "source": [
    "import warnings\n",
    "warnings.filterwarnings('ignore')"
   ]
  },
  {
   "cell_type": "code",
   "execution_count": 54,
   "metadata": {},
   "outputs": [],
   "source": [
    "# data = pd.read_csv(path.join(\"data\",\"train_reuter_org_1.csv\"),header=None)\n",
    "# test = pd.read_csv(path.join(\"data\",\"test_reuter_org_1.csv\"),header=None)\n",
    "\n",
    "\n",
    "data_org = pd.read_csv(path.join(\"data\",\"train_reuter_org_1.csv\"),header=None)\n",
    "test_org = pd.read_csv(path.join(\"data\",\"test_reuter_org_1.csv\"),header=None)\n",
    "\n",
    "\n",
    "data = pd.read_csv(path.join(\"data\",'train_reuter_877_44_1.csv'),header=None)\n",
    "test = pd.read_csv(path.join(\"data\",'test_reuter_877_44_1.csv'),header=None)\n"
   ]
  },
  {
   "cell_type": "code",
   "execution_count": 21,
   "metadata": {
    "scrolled": true
   },
   "outputs": [
    {
     "data": {
      "text/html": [
       "<div>\n",
       "<style scoped>\n",
       "    .dataframe tbody tr th:only-of-type {\n",
       "        vertical-align: middle;\n",
       "    }\n",
       "\n",
       "    .dataframe tbody tr th {\n",
       "        vertical-align: top;\n",
       "    }\n",
       "\n",
       "    .dataframe thead th {\n",
       "        text-align: right;\n",
       "    }\n",
       "</style>\n",
       "<table border=\"1\" class=\"dataframe\">\n",
       "  <thead>\n",
       "    <tr style=\"text-align: right;\">\n",
       "      <th></th>\n",
       "      <th>0</th>\n",
       "      <th>1</th>\n",
       "      <th>2</th>\n",
       "      <th>3</th>\n",
       "      <th>4</th>\n",
       "      <th>5</th>\n",
       "      <th>6</th>\n",
       "      <th>7</th>\n",
       "      <th>8</th>\n",
       "      <th>9</th>\n",
       "      <th>...</th>\n",
       "      <th>35</th>\n",
       "      <th>36</th>\n",
       "      <th>37</th>\n",
       "      <th>38</th>\n",
       "      <th>39</th>\n",
       "      <th>40</th>\n",
       "      <th>41</th>\n",
       "      <th>42</th>\n",
       "      <th>43</th>\n",
       "      <th>44</th>\n",
       "    </tr>\n",
       "  </thead>\n",
       "  <tbody>\n",
       "    <tr>\n",
       "      <th>0</th>\n",
       "      <td>0.80564</td>\n",
       "      <td>1.03990</td>\n",
       "      <td>1.05160</td>\n",
       "      <td>1.06240</td>\n",
       "      <td>1.06300</td>\n",
       "      <td>1.07220</td>\n",
       "      <td>1.08180</td>\n",
       "      <td>1.09360</td>\n",
       "      <td>1.09570</td>\n",
       "      <td>1.09600</td>\n",
       "      <td>...</td>\n",
       "      <td>1.14010</td>\n",
       "      <td>1.14030</td>\n",
       "      <td>1.14110</td>\n",
       "      <td>1.14120</td>\n",
       "      <td>1.1419</td>\n",
       "      <td>1.1436</td>\n",
       "      <td>1.1438</td>\n",
       "      <td>1.1438</td>\n",
       "      <td>1.1441</td>\n",
       "      <td>0</td>\n",
       "    </tr>\n",
       "    <tr>\n",
       "      <th>1</th>\n",
       "      <td>0.94974</td>\n",
       "      <td>0.95941</td>\n",
       "      <td>1.00590</td>\n",
       "      <td>1.00800</td>\n",
       "      <td>1.03210</td>\n",
       "      <td>1.03550</td>\n",
       "      <td>1.04340</td>\n",
       "      <td>1.04350</td>\n",
       "      <td>1.05560</td>\n",
       "      <td>1.05700</td>\n",
       "      <td>...</td>\n",
       "      <td>1.10190</td>\n",
       "      <td>1.10480</td>\n",
       "      <td>1.10550</td>\n",
       "      <td>1.10550</td>\n",
       "      <td>1.1059</td>\n",
       "      <td>1.1070</td>\n",
       "      <td>1.1082</td>\n",
       "      <td>1.1102</td>\n",
       "      <td>1.1117</td>\n",
       "      <td>0</td>\n",
       "    </tr>\n",
       "    <tr>\n",
       "      <th>2</th>\n",
       "      <td>0.49153</td>\n",
       "      <td>0.65380</td>\n",
       "      <td>0.70683</td>\n",
       "      <td>0.70803</td>\n",
       "      <td>0.81065</td>\n",
       "      <td>0.85390</td>\n",
       "      <td>0.85520</td>\n",
       "      <td>0.87345</td>\n",
       "      <td>0.90402</td>\n",
       "      <td>0.91982</td>\n",
       "      <td>...</td>\n",
       "      <td>1.10650</td>\n",
       "      <td>1.10660</td>\n",
       "      <td>1.10890</td>\n",
       "      <td>1.11180</td>\n",
       "      <td>1.1139</td>\n",
       "      <td>1.1176</td>\n",
       "      <td>1.1198</td>\n",
       "      <td>1.1212</td>\n",
       "      <td>1.1214</td>\n",
       "      <td>0</td>\n",
       "    </tr>\n",
       "    <tr>\n",
       "      <th>3</th>\n",
       "      <td>0.35153</td>\n",
       "      <td>0.58909</td>\n",
       "      <td>0.73177</td>\n",
       "      <td>0.73334</td>\n",
       "      <td>0.77836</td>\n",
       "      <td>0.82453</td>\n",
       "      <td>0.83517</td>\n",
       "      <td>0.83915</td>\n",
       "      <td>0.85313</td>\n",
       "      <td>0.86826</td>\n",
       "      <td>...</td>\n",
       "      <td>0.98292</td>\n",
       "      <td>0.98389</td>\n",
       "      <td>0.99304</td>\n",
       "      <td>0.99457</td>\n",
       "      <td>1.0001</td>\n",
       "      <td>1.0041</td>\n",
       "      <td>1.0050</td>\n",
       "      <td>1.0153</td>\n",
       "      <td>1.0186</td>\n",
       "      <td>0</td>\n",
       "    </tr>\n",
       "    <tr>\n",
       "      <th>4</th>\n",
       "      <td>0.65377</td>\n",
       "      <td>0.96085</td>\n",
       "      <td>0.96292</td>\n",
       "      <td>0.98122</td>\n",
       "      <td>0.98278</td>\n",
       "      <td>0.99948</td>\n",
       "      <td>0.99996</td>\n",
       "      <td>1.00170</td>\n",
       "      <td>1.01250</td>\n",
       "      <td>1.01920</td>\n",
       "      <td>...</td>\n",
       "      <td>1.09060</td>\n",
       "      <td>1.09160</td>\n",
       "      <td>1.09200</td>\n",
       "      <td>1.09420</td>\n",
       "      <td>1.0952</td>\n",
       "      <td>1.0973</td>\n",
       "      <td>1.1003</td>\n",
       "      <td>1.1013</td>\n",
       "      <td>1.1013</td>\n",
       "      <td>0</td>\n",
       "    </tr>\n",
       "    <tr>\n",
       "      <th>5</th>\n",
       "      <td>0.92654</td>\n",
       "      <td>0.98616</td>\n",
       "      <td>1.03620</td>\n",
       "      <td>1.05940</td>\n",
       "      <td>1.06530</td>\n",
       "      <td>1.06680</td>\n",
       "      <td>1.06810</td>\n",
       "      <td>1.07280</td>\n",
       "      <td>1.07380</td>\n",
       "      <td>1.07510</td>\n",
       "      <td>...</td>\n",
       "      <td>1.13430</td>\n",
       "      <td>1.13520</td>\n",
       "      <td>1.13780</td>\n",
       "      <td>1.13820</td>\n",
       "      <td>1.1397</td>\n",
       "      <td>1.1412</td>\n",
       "      <td>1.1413</td>\n",
       "      <td>1.1416</td>\n",
       "      <td>1.1420</td>\n",
       "      <td>0</td>\n",
       "    </tr>\n",
       "    <tr>\n",
       "      <th>6</th>\n",
       "      <td>0.52838</td>\n",
       "      <td>0.85345</td>\n",
       "      <td>0.88262</td>\n",
       "      <td>0.89068</td>\n",
       "      <td>0.91130</td>\n",
       "      <td>0.97044</td>\n",
       "      <td>0.99184</td>\n",
       "      <td>1.00280</td>\n",
       "      <td>1.00460</td>\n",
       "      <td>1.02240</td>\n",
       "      <td>...</td>\n",
       "      <td>1.11960</td>\n",
       "      <td>1.12420</td>\n",
       "      <td>1.12470</td>\n",
       "      <td>1.12870</td>\n",
       "      <td>1.1294</td>\n",
       "      <td>1.1296</td>\n",
       "      <td>1.1320</td>\n",
       "      <td>1.1352</td>\n",
       "      <td>1.1378</td>\n",
       "      <td>0</td>\n",
       "    </tr>\n",
       "    <tr>\n",
       "      <th>7</th>\n",
       "      <td>0.49038</td>\n",
       "      <td>0.78243</td>\n",
       "      <td>0.87752</td>\n",
       "      <td>0.89555</td>\n",
       "      <td>0.91822</td>\n",
       "      <td>0.92213</td>\n",
       "      <td>0.97251</td>\n",
       "      <td>0.97571</td>\n",
       "      <td>0.99286</td>\n",
       "      <td>1.01250</td>\n",
       "      <td>...</td>\n",
       "      <td>1.08450</td>\n",
       "      <td>1.08510</td>\n",
       "      <td>1.08800</td>\n",
       "      <td>1.08860</td>\n",
       "      <td>1.0889</td>\n",
       "      <td>1.0897</td>\n",
       "      <td>1.0898</td>\n",
       "      <td>1.0901</td>\n",
       "      <td>1.0905</td>\n",
       "      <td>0</td>\n",
       "    </tr>\n",
       "    <tr>\n",
       "      <th>8</th>\n",
       "      <td>0.57544</td>\n",
       "      <td>1.03560</td>\n",
       "      <td>1.04940</td>\n",
       "      <td>1.06900</td>\n",
       "      <td>1.07500</td>\n",
       "      <td>1.07540</td>\n",
       "      <td>1.08100</td>\n",
       "      <td>1.10100</td>\n",
       "      <td>1.10340</td>\n",
       "      <td>1.10620</td>\n",
       "      <td>...</td>\n",
       "      <td>1.14700</td>\n",
       "      <td>1.14840</td>\n",
       "      <td>1.14900</td>\n",
       "      <td>1.14960</td>\n",
       "      <td>1.1501</td>\n",
       "      <td>1.1501</td>\n",
       "      <td>1.1501</td>\n",
       "      <td>1.1505</td>\n",
       "      <td>1.1547</td>\n",
       "      <td>0</td>\n",
       "    </tr>\n",
       "    <tr>\n",
       "      <th>9</th>\n",
       "      <td>0.87647</td>\n",
       "      <td>0.98766</td>\n",
       "      <td>1.04660</td>\n",
       "      <td>1.06610</td>\n",
       "      <td>1.07250</td>\n",
       "      <td>1.07470</td>\n",
       "      <td>1.07630</td>\n",
       "      <td>1.08020</td>\n",
       "      <td>1.08360</td>\n",
       "      <td>1.09470</td>\n",
       "      <td>...</td>\n",
       "      <td>1.14360</td>\n",
       "      <td>1.14380</td>\n",
       "      <td>1.14390</td>\n",
       "      <td>1.14410</td>\n",
       "      <td>1.1456</td>\n",
       "      <td>1.1471</td>\n",
       "      <td>1.1476</td>\n",
       "      <td>1.1476</td>\n",
       "      <td>1.1484</td>\n",
       "      <td>0</td>\n",
       "    </tr>\n",
       "  </tbody>\n",
       "</table>\n",
       "<p>10 rows × 45 columns</p>\n",
       "</div>"
      ],
      "text/plain": [
       "        0        1        2        3        4        5        6        7   \\\n",
       "0  0.80564  1.03990  1.05160  1.06240  1.06300  1.07220  1.08180  1.09360   \n",
       "1  0.94974  0.95941  1.00590  1.00800  1.03210  1.03550  1.04340  1.04350   \n",
       "2  0.49153  0.65380  0.70683  0.70803  0.81065  0.85390  0.85520  0.87345   \n",
       "3  0.35153  0.58909  0.73177  0.73334  0.77836  0.82453  0.83517  0.83915   \n",
       "4  0.65377  0.96085  0.96292  0.98122  0.98278  0.99948  0.99996  1.00170   \n",
       "5  0.92654  0.98616  1.03620  1.05940  1.06530  1.06680  1.06810  1.07280   \n",
       "6  0.52838  0.85345  0.88262  0.89068  0.91130  0.97044  0.99184  1.00280   \n",
       "7  0.49038  0.78243  0.87752  0.89555  0.91822  0.92213  0.97251  0.97571   \n",
       "8  0.57544  1.03560  1.04940  1.06900  1.07500  1.07540  1.08100  1.10100   \n",
       "9  0.87647  0.98766  1.04660  1.06610  1.07250  1.07470  1.07630  1.08020   \n",
       "\n",
       "        8        9   ...       35       36       37       38      39      40  \\\n",
       "0  1.09570  1.09600  ...  1.14010  1.14030  1.14110  1.14120  1.1419  1.1436   \n",
       "1  1.05560  1.05700  ...  1.10190  1.10480  1.10550  1.10550  1.1059  1.1070   \n",
       "2  0.90402  0.91982  ...  1.10650  1.10660  1.10890  1.11180  1.1139  1.1176   \n",
       "3  0.85313  0.86826  ...  0.98292  0.98389  0.99304  0.99457  1.0001  1.0041   \n",
       "4  1.01250  1.01920  ...  1.09060  1.09160  1.09200  1.09420  1.0952  1.0973   \n",
       "5  1.07380  1.07510  ...  1.13430  1.13520  1.13780  1.13820  1.1397  1.1412   \n",
       "6  1.00460  1.02240  ...  1.11960  1.12420  1.12470  1.12870  1.1294  1.1296   \n",
       "7  0.99286  1.01250  ...  1.08450  1.08510  1.08800  1.08860  1.0889  1.0897   \n",
       "8  1.10340  1.10620  ...  1.14700  1.14840  1.14900  1.14960  1.1501  1.1501   \n",
       "9  1.08360  1.09470  ...  1.14360  1.14380  1.14390  1.14410  1.1456  1.1471   \n",
       "\n",
       "       41      42      43  44  \n",
       "0  1.1438  1.1438  1.1441   0  \n",
       "1  1.1082  1.1102  1.1117   0  \n",
       "2  1.1198  1.1212  1.1214   0  \n",
       "3  1.0050  1.0153  1.0186   0  \n",
       "4  1.1003  1.1013  1.1013   0  \n",
       "5  1.1413  1.1416  1.1420   0  \n",
       "6  1.1320  1.1352  1.1378   0  \n",
       "7  1.0898  1.0901  1.0905   0  \n",
       "8  1.1501  1.1505  1.1547   0  \n",
       "9  1.1476  1.1476  1.1484   0  \n",
       "\n",
       "[10 rows x 45 columns]"
      ]
     },
     "execution_count": 21,
     "metadata": {},
     "output_type": "execute_result"
    }
   ],
   "source": [
    "data.head(10)"
   ]
  },
  {
   "cell_type": "code",
   "execution_count": 56,
   "metadata": {},
   "outputs": [],
   "source": [
    "#feature name 임의로 설정 \n",
    "columns = [f\"w{i}\" for i in range(len(data.columns)-1)]\n",
    "columns.append(\"is_normal\")\n",
    "\n",
    "\n",
    "columns_org = [f\"w{i}\" for i in range(len(data_org.columns)-1)]\n",
    "columns_org.append(\"is_normal\")\n",
    "\n",
    "\n",
    "\n",
    "#Replacing training data's column\n",
    "data.columns = columns\n",
    "test.columns = columns\n",
    "\n",
    "#Replacing originla data's column\n",
    "\n",
    "data_org.columns = columns_org\n",
    "test_org.columns = columns_org\n",
    "\n",
    "\n"
   ]
  },
  {
   "cell_type": "code",
   "execution_count": 57,
   "metadata": {},
   "outputs": [],
   "source": [
    "# dimension reduced data\n",
    "train_data = data.iloc[:,:-1]\n",
    "train_label = data.iloc[:,[-1]]\n",
    "\n",
    "\n",
    "test_data = test.iloc[:,:-1]\n",
    "test_label = test.iloc[:,[-1]]\n",
    "\n",
    "\n",
    "\n",
    "# original data\n",
    "train_data_org = data_org.iloc[:,:-1]\n",
    "train_label_org = data_org.iloc[:,[-1]]\n",
    "\n",
    "\n",
    "test_data_org = test_org.iloc[:,:-1]\n",
    "test_label_org = test_org.iloc[:,[-1]]\n",
    "\n"
   ]
  },
  {
   "cell_type": "code",
   "execution_count": 58,
   "metadata": {
    "scrolled": true
   },
   "outputs": [
    {
     "data": {
      "text/plain": [
       "((2923, 44), (4903, 44), (2923, 15484), (4903, 15484))"
      ]
     },
     "execution_count": 58,
     "metadata": {},
     "output_type": "execute_result"
    }
   ],
   "source": [
    "train_data.shape , test_data.shape ,train_data_org.shape , test_data_org.shape"
   ]
  },
  {
   "cell_type": "markdown",
   "metadata": {},
   "source": [
    "# forest for reduced model"
   ]
  },
  {
   "cell_type": "code",
   "execution_count": 62,
   "metadata": {},
   "outputs": [],
   "source": [
    "clf = IsolationForest()"
   ]
  },
  {
   "cell_type": "code",
   "execution_count": 64,
   "metadata": {},
   "outputs": [
    {
     "data": {
      "text/plain": [
       "IsolationForest()"
      ]
     },
     "execution_count": 64,
     "metadata": {},
     "output_type": "execute_result"
    }
   ],
   "source": [
    "clf.fit(train_data)"
   ]
  },
  {
   "cell_type": "code",
   "execution_count": 67,
   "metadata": {},
   "outputs": [],
   "source": [
    "# score using score_samples method\n",
    "pred_score_reduced = clf.score_samples(test_data)\n",
    "\n",
    "#prediction score using decision function method\n",
    "pred_score_dfuc = clf.decision_function(test_data)"
   ]
  },
  {
   "cell_type": "code",
   "execution_count": 66,
   "metadata": {},
   "outputs": [
    {
     "data": {
      "text/plain": [
       "array([-0.43244663, -0.40620463, -0.43046771, ..., -0.41121564,\n",
       "       -0.54350387, -0.42003121])"
      ]
     },
     "execution_count": 66,
     "metadata": {},
     "output_type": "execute_result"
    }
   ],
   "source": [
    "pred_score_reduced"
   ]
  },
  {
   "cell_type": "code",
   "execution_count": 68,
   "metadata": {},
   "outputs": [
    {
     "data": {
      "text/plain": [
       "array([ 0.06755337,  0.09379537,  0.06953229, ...,  0.08878436,\n",
       "       -0.04350387,  0.07996879])"
      ]
     },
     "execution_count": 68,
     "metadata": {},
     "output_type": "execute_result"
    }
   ],
   "source": [
    "pred_score_dfuc"
   ]
  },
  {
   "cell_type": "code",
   "execution_count": 42,
   "metadata": {
    "scrolled": true
   },
   "outputs": [
    {
     "data": {
      "text/plain": [
       "0.4635504189336875"
      ]
     },
     "execution_count": 42,
     "metadata": {},
     "output_type": "execute_result"
    }
   ],
   "source": [
    "from sklearn.metrics import roc_curve\n",
    "from sklearn.metrics import roc_auc_score\n"
   ]
  },
  {
   "cell_type": "code",
   "execution_count": 49,
   "metadata": {},
   "outputs": [],
   "source": [
    "auc =  roc_auc_score(test_label , -pred_score)"
   ]
  },
  {
   "cell_type": "code",
   "execution_count": 46,
   "metadata": {},
   "outputs": [
    {
     "data": {
      "text/plain": [
       "array([-0.43488944, -0.40212074, -0.41610932, ..., -0.40164603,\n",
       "       -0.54746402, -0.41733264])"
      ]
     },
     "execution_count": 46,
     "metadata": {},
     "output_type": "execute_result"
    }
   ],
   "source": [
    "clf.score_samples(test_data)"
   ]
  },
  {
   "cell_type": "markdown",
   "metadata": {},
   "source": [
    "# AUC with reduced data"
   ]
  },
  {
   "cell_type": "code",
   "execution_count": 69,
   "metadata": {},
   "outputs": [
    {
     "data": {
      "text/plain": [
       "<matplotlib.legend.Legend at 0x196ce9c5160>"
      ]
     },
     "execution_count": 69,
     "metadata": {},
     "output_type": "execute_result"
    },
    {
     "data": {
      "image/png": "[encoded data removed]",
      "text/plain": [
       "<Figure size 576x576 with 1 Axes>"
      ]
     },
     "metadata": {
      "needs_background": "light"
     },
     "output_type": "display_data"
    }
   ],
   "source": [
    "plt.figure(figsize=(8,8))\n",
    "fpr,tpr,th = roc_curve(test_label, -pred_score)\n",
    "plt.plot(fpr,tpr,'k-',lw=2 , label = \"auc:\"+str(auc) )\n",
    "plt.plot([0,1],[0,1])\n",
    "plt.xlabel(\"False positive rate\")\n",
    "plt.ylabel(\"True positive rate\")\n",
    "plt.legend()"
   ]
  },
  {
   "cell_type": "code",
   "execution_count": null,
   "metadata": {},
   "outputs": [],
   "source": []
  },
  {
   "cell_type": "markdown",
   "metadata": {},
   "source": [
    "# Training with original data"
   ]
  },
  {
   "cell_type": "code",
   "execution_count": null,
   "metadata": {},
   "outputs": [],
   "source": [
    "clf_org = IsolationForest()\n",
    "clf_org.fit(train_data_org)"
   ]
  },
  {
   "cell_type": "code",
   "execution_count": null,
   "metadata": {},
   "outputs": [],
   "source": []
  },
  {
   "cell_type": "code",
   "execution_count": null,
   "metadata": {},
   "outputs": [],
   "source": []
  },
  {
   "cell_type": "code",
   "execution_count": null,
   "metadata": {},
   "outputs": [],
   "source": []
  },
  {
   "cell_type": "code",
   "execution_count": null,
   "metadata": {},
   "outputs": [],
   "source": []
  },
  {
   "cell_type": "code",
   "execution_count": null,
   "metadata": {},
   "outputs": [],
   "source": []
  },
  {
   "cell_type": "code",
   "execution_count": null,
   "metadata": {},
   "outputs": [],
   "source": []
  },
  {
   "cell_type": "code",
   "execution_count": null,
   "metadata": {},
   "outputs": [],
   "source": []
  },
  {
   "cell_type": "code",
   "execution_count": null,
   "metadata": {},
   "outputs": [],
   "source": []
  },
  {
   "cell_type": "code",
   "execution_count": null,
   "metadata": {},
   "outputs": [],
   "source": []
  },
  {
   "cell_type": "code",
   "execution_count": 64,
   "metadata": {
    "scrolled": false
   },
   "outputs": [
    {
     "data": {
      "image/png": "[encoded data removed]",
      "text/plain": [
       "<Figure size 936x864 with 9 Axes>"
      ]
     },
     "metadata": {
      "needs_background": "light"
     },
     "output_type": "display_data"
    }
   ],
   "source": [
    "fig, ax = plt.subplots(3,3, figsize=(13,12))\n",
    "\n",
    "for i in range(3):\n",
    "    for j in range(3):\n",
    "        a = random.randint(0,len(data.columns)-1)\n",
    "        b = random.randint(0,len(data.columns)-1)\n",
    "        sns.scatterplot(test_data[f\"w{a}\"] , test_data[f\"w{b}\"] , hue = test.is_normal ,ax=ax[j][i])\n",
    "        "
   ]
  },
  {
   "cell_type": "code",
   "execution_count": 67,
   "metadata": {},
   "outputs": [
    {
     "data": {
      "image/png": "[encoded data removed]",
      "text/plain": [
       "<Figure size 936x864 with 9 Axes>"
      ]
     },
     "metadata": {
      "needs_background": "light"
     },
     "output_type": "display_data"
    }
   ],
   "source": [
    "fig, ax = plt.subplots(3,3, figsize=(13,12))\n",
    "\n",
    "for i in range(3):\n",
    "    for j in range(3):\n",
    "        a = random.randint(0,len(data.columns)-1)\n",
    "        b = random.randint(0,len(data.columns)-1)\n",
    "        sns.distplot(test_data[f\"w{a}\"]  ,ax=ax[j][i])\n",
    "        \n",
    "        "
   ]
  },
  {
   "cell_type": "code",
   "execution_count": 19,
   "metadata": {},
   "outputs": [
    {
     "data": {
      "text/plain": [
       "Text(0, 0.5, 'True positive rate')"
      ]
     },
     "execution_count": 19,
     "metadata": {},
     "output_type": "execute_result"
    },
    {
     "data": {
      "image/png": "[encoded data removed]",
      "text/plain": [
       "<Figure size 432x288 with 1 Axes>"
      ]
     },
     "metadata": {
      "needs_background": "light"
     },
     "output_type": "display_data"
    }
   ],
   "source": [
    "fpr,tpr,th = roc_curve(test_label, test_prediction)\n",
    "plt.plot(fpr,tpr,'k-',lw=2)\n",
    "plt.xlabel(\"False positive rate\")\n",
    "plt.ylabel(\"True positive rate\")"
   ]
  },
  {
   "cell_type": "code",
   "execution_count": 24,
   "metadata": {},
   "outputs": [],
   "source": [
    "a=10"
   ]
  },
  {
   "cell_type": "code",
   "execution_count": null,
   "metadata": {},
   "outputs": [],
   "source": []
  }
 ],
 "metadata": {
  "kernelspec": {
   "display_name": "Python 3",
   "language": "python",
   "name": "python3"
  },
  "language_info": {
   "codemirror_mode": {
    "name": "ipython",
    "version": 3
   },
   "file_extension": ".py",
   "mimetype": "text/x-python",
   "name": "python",
   "nbconvert_exporter": "python",
   "pygments_lexer": "ipython3",
   "version": "3.8.5"
  }
 },
 "nbformat": 4,
 "nbformat_minor": 4
}
